{
 "cells": [
  {
   "cell_type": "code",
   "execution_count": 9,
   "id": "81d2790a",
   "metadata": {},
   "outputs": [],
   "source": [
    "import pandas as pd\n",
    "import numpy as np\n",
    "\n",
    "# Import the first CSV file\n",
    "feature_df = pd.read_csv('ufc_features.csv')\n",
    "pd.set_option('display.max_columns', None)\n",
    "pd.set_option('display.max_rows', None)\n",
    "\n",
    "# Drop the columns\n",
    "columns_to_drop = ['p1_fighter', 'p2_fighter', 'event_date'] #method\n",
    "feature_df = feature_df.drop(columns=columns_to_drop)\n",
    "cols_to_drop = [col for col in feature_df.columns if col.startswith('method_')]\n",
    "feature_df.drop(columns=cols_to_drop, inplace=True)\n",
    "\n",
    "\n",
    "# Clean all column names\n",
    "def clean_column_name(col):\n",
    "  return col.lower().replace(' ', '_').replace('.', '').replace('-', '_')\n",
    "\n",
    "# Apply to all columns\n",
    "feature_df.columns = [clean_column_name(col) for col in feature_df.columns]"
   ]
  },
  {
   "cell_type": "code",
   "execution_count": 10,
   "id": "f4e47817",
   "metadata": {},
   "outputs": [
    {
     "name": "stdout",
     "output_type": "stream",
     "text": [
      "Available columns:\n",
      "['referee', 'winner', 'p1_height', 'p1_weight', 'p1_reach', 'p1_stance', 'p1_slpm', 'p1_str_acc', 'p1_sapm', 'p1_str_def', 'p1_td_avg', 'p1_td_acc', 'p1_td_def', 'p1_sub_avg', 'p2_height', 'p2_weight', 'p2_reach', 'p2_stance', 'p2_slpm', 'p2_str_acc', 'p2_sapm', 'p2_str_def', 'p2_td_avg', 'p2_td_acc', 'p2_td_def', 'p2_sub_avg', 'p1_age_at_event', 'p2_age_at_event', 'height_diff', 'reach_diff', 'weight_diff', 'age_diff', 'slpm_diff', 'stracc_diff', 'sapm_diff', 'strdef_diff', 'tdavg_diff', 'tdacc_diff', 'tddef_diff', 'subavg_diff', 'p1_days_since_last_fight', 'p2_days_since_last_fight', 'days_since_last_fight_diff', 'p1_wins', 'p1_losses', 'p1_total', 'p2_wins', 'p2_losses', 'p2_total', 'win_diff', 'loss_diff', 'total_diff', 'p1_win_streak', 'p2_win_streak', 'p1_age_adjusted_slpm', 'p2_age_adjusted_slpm', 'p1_age_adjusted_str_acc', 'p2_age_adjusted_str_acc', 'p1_age_adjusted_sapm', 'p2_age_adjusted_sapm', 'p1_age_adjusted_str_def', 'p2_age_adjusted_str_def', 'p1_age_adjusted_td_avg', 'p2_age_adjusted_td_avg', 'p1_age_adjusted_td_acc', 'p2_age_adjusted_td_acc', 'p1_age_adjusted_td_def', 'p2_age_adjusted_td_def', 'p1_age_adjusted_sub_avg', 'p2_age_adjusted_sub_avg', 'p1_kd_ema', 'p2_kd_ema', 'p1_sig_str_pct_ema', 'p2_sig_str_pct_ema', 'p1_td_pct_ema', 'p2_td_pct_ema', 'p1_sub_att_ema', 'p2_sub_att_ema', 'p1_rev_ema', 'p2_rev_ema', 'p1_ctrl_ema', 'p2_ctrl_ema', 'p1_r1_kd_ema', 'p2_r1_kd_ema', 'p1_r1_sig_str_pct_ema', 'p2_r1_sig_str_pct_ema', 'p1_r1_td_pct_ema', 'p2_r1_td_pct_ema', 'p1_r1_sub_att_ema', 'p2_r1_sub_att_ema', 'p1_r1_rev_ema', 'p2_r1_rev_ema', 'p1_r1_ctrl_ema', 'p2_r1_ctrl_ema', 'p1_sig_str_pct_detailed_ema', 'p2_sig_str_pct_detailed_ema', 'p1_r1_sig_str_pct_detailed_ema', 'p2_r1_sig_str_pct_detailed_ema', 'p1_sig_str_landed_ema', 'p2_sig_str_landed_ema', 'p1_sig_str_attempted_ema', 'p2_sig_str_attempted_ema', 'p1_total_str_landed_ema', 'p2_total_str_landed_ema', 'p1_total_str_attempted_ema', 'p2_total_str_attempted_ema', 'p1_td_landed_ema', 'p2_td_landed_ema', 'p1_td_attempted_ema', 'p2_td_attempted_ema', 'p1_r1_sig_str_landed_ema', 'p2_r1_sig_str_landed_ema', 'p1_r1_sig_str_attempted_ema', 'p2_r1_sig_str_attempted_ema', 'p1_r1_total_str_landed_ema', 'p2_r1_total_str_landed_ema', 'p1_r1_total_str_attempted_ema', 'p2_r1_total_str_attempted_ema', 'p1_r1_td_landed_ema', 'p2_r1_td_landed_ema', 'p1_r1_td_attempted_ema', 'p2_r1_td_attempted_ema', 'p1_head_landed_ema', 'p2_head_landed_ema', 'p1_head_attempted_ema', 'p2_head_attempted_ema', 'p1_body_landed_ema', 'p2_body_landed_ema', 'p1_body_attempted_ema', 'p2_body_attempted_ema', 'p1_leg_landed_ema', 'p2_leg_landed_ema', 'p1_leg_attempted_ema', 'p2_leg_attempted_ema', 'p1_distance_landed_ema', 'p2_distance_landed_ema', 'p1_distance_attempted_ema', 'p2_distance_attempted_ema', 'p1_clinch_landed_ema', 'p2_clinch_landed_ema', 'p1_clinch_attempted_ema', 'p2_clinch_attempted_ema', 'p1_ground_landed_ema', 'p2_ground_landed_ema', 'p1_ground_attempted_ema', 'p2_ground_attempted_ema', 'p1_r1_head_landed_ema', 'p2_r1_head_landed_ema', 'p1_r1_head_attempted_ema', 'p2_r1_head_attempted_ema', 'p1_r1_body_landed_ema', 'p2_r1_body_landed_ema', 'p1_r1_body_attempted_ema', 'p2_r1_body_attempted_ema', 'p1_r1_leg_landed_ema', 'p2_r1_leg_landed_ema', 'p1_r1_leg_attempted_ema', 'p2_r1_leg_attempted_ema', 'p1_r1_distance_landed_ema', 'p2_r1_distance_landed_ema', 'p1_r1_distance_attempted_ema', 'p2_r1_distance_attempted_ema', 'p1_r1_clinch_landed_ema', 'p2_r1_clinch_landed_ema', 'p1_r1_clinch_attempted_ema', 'p2_r1_clinch_attempted_ema', 'p1_r1_ground_landed_ema', 'p2_r1_ground_landed_ema', 'p1_r1_ground_attempted_ema', 'p2_r1_ground_attempted_ema']\n",
      "Found 70 available numeric features\n",
      "Available features: ['height', 'weight', 'reach', 'slpm', 'str_acc', 'sapm', 'str_def', 'td_avg', 'td_acc', 'td_def', 'sub_avg', 'age_at_event', 'age_adjusted_slpm', 'age_adjusted_str_acc', 'age_adjusted_sapm', 'age_adjusted_str_def', 'age_adjusted_td_avg', 'age_adjusted_td_acc', 'age_adjusted_td_def', 'age_adjusted_sub_avg', 'kd_ema', 'sig_str_pct_ema', 'td_pct_ema', 'sub_att_ema', 'rev_ema', 'ctrl_ema', 'r1_kd_ema', 'r1_sig_str_pct_ema', 'r1_td_pct_ema', 'r1_sub_att_ema', 'r1_rev_ema', 'r1_ctrl_ema', 'sig_str_pct_detailed_ema', 'r1_sig_str_pct_detailed_ema', 'sig_str_landed_ema', 'sig_str_attempted_ema', 'total_str_landed_ema', 'total_str_attempted_ema', 'td_landed_ema', 'td_attempted_ema', 'r1_sig_str_landed_ema', 'r1_sig_str_attempted_ema', 'r1_total_str_landed_ema', 'r1_total_str_attempted_ema', 'r1_td_landed_ema', 'r1_td_attempted_ema', 'head_landed_ema', 'head_attempted_ema', 'body_landed_ema', 'body_attempted_ema', 'leg_landed_ema', 'leg_attempted_ema', 'distance_landed_ema', 'distance_attempted_ema', 'clinch_landed_ema', 'clinch_attempted_ema', 'ground_landed_ema', 'ground_attempted_ema', 'r1_head_landed_ema', 'r1_head_attempted_ema', 'r1_body_landed_ema', 'r1_body_attempted_ema', 'r1_leg_landed_ema', 'r1_leg_attempted_ema', 'r1_distance_landed_ema', 'r1_distance_attempted_ema', 'r1_clinch_landed_ema', 'r1_clinch_attempted_ema', 'r1_ground_landed_ema', 'r1_ground_attempted_ema']\n",
      "Fighter Encoder Summary:\n"
     ]
    },
    {
     "data": {
      "text/html": [
       "<pre style=\"white-space:pre;overflow-x:auto;line-height:normal;font-family:Menlo,'DejaVu Sans Mono',consolas,'Courier New',monospace\"><span style=\"font-weight: bold\">Model: \"functional\"</span>\n",
       "</pre>\n"
      ],
      "text/plain": [
       "\u001b[1mModel: \"functional\"\u001b[0m\n"
      ]
     },
     "metadata": {},
     "output_type": "display_data"
    },
    {
     "data": {
      "text/html": [
       "<pre style=\"white-space:pre;overflow-x:auto;line-height:normal;font-family:Menlo,'DejaVu Sans Mono',consolas,'Courier New',monospace\">┏━━━━━━━━━━━━━━━━━━━━━┳━━━━━━━━━━━━━━━━━━━┳━━━━━━━━━━━━┳━━━━━━━━━━━━━━━━━━━┓\n",
       "┃<span style=\"font-weight: bold\"> Layer (type)        </span>┃<span style=\"font-weight: bold\"> Output Shape      </span>┃<span style=\"font-weight: bold\">    Param # </span>┃<span style=\"font-weight: bold\"> Connected to      </span>┃\n",
       "┡━━━━━━━━━━━━━━━━━━━━━╇━━━━━━━━━━━━━━━━━━━╇━━━━━━━━━━━━╇━━━━━━━━━━━━━━━━━━━┩\n",
       "│ referee             │ (<span style=\"color: #00d7ff; text-decoration-color: #00d7ff\">None</span>, <span style=\"color: #00af00; text-decoration-color: #00af00\">1</span>)         │          <span style=\"color: #00af00; text-decoration-color: #00af00\">0</span> │ -                 │\n",
       "│ (<span style=\"color: #0087ff; text-decoration-color: #0087ff\">InputLayer</span>)        │                   │            │                   │\n",
       "├─────────────────────┼───────────────────┼────────────┼───────────────────┤\n",
       "│ stance (<span style=\"color: #0087ff; text-decoration-color: #0087ff\">InputLayer</span>) │ (<span style=\"color: #00d7ff; text-decoration-color: #00d7ff\">None</span>, <span style=\"color: #00af00; text-decoration-color: #00af00\">1</span>)         │          <span style=\"color: #00af00; text-decoration-color: #00af00\">0</span> │ -                 │\n",
       "├─────────────────────┼───────────────────┼────────────┼───────────────────┤\n",
       "│ referee_embedding   │ (<span style=\"color: #00d7ff; text-decoration-color: #00d7ff\">None</span>, <span style=\"color: #00af00; text-decoration-color: #00af00\">1</span>, <span style=\"color: #00af00; text-decoration-color: #00af00\">8</span>)      │      <span style=\"color: #00af00; text-decoration-color: #00af00\">1,856</span> │ referee[<span style=\"color: #00af00; text-decoration-color: #00af00\">0</span>][<span style=\"color: #00af00; text-decoration-color: #00af00\">0</span>]     │\n",
       "│ (<span style=\"color: #0087ff; text-decoration-color: #0087ff\">Embedding</span>)         │                   │            │                   │\n",
       "├─────────────────────┼───────────────────┼────────────┼───────────────────┤\n",
       "│ stance_embedding    │ (<span style=\"color: #00d7ff; text-decoration-color: #00d7ff\">None</span>, <span style=\"color: #00af00; text-decoration-color: #00af00\">1</span>, <span style=\"color: #00af00; text-decoration-color: #00af00\">4</span>)      │         <span style=\"color: #00af00; text-decoration-color: #00af00\">24</span> │ stance[<span style=\"color: #00af00; text-decoration-color: #00af00\">0</span>][<span style=\"color: #00af00; text-decoration-color: #00af00\">0</span>]      │\n",
       "│ (<span style=\"color: #0087ff; text-decoration-color: #0087ff\">Embedding</span>)         │                   │            │                   │\n",
       "├─────────────────────┼───────────────────┼────────────┼───────────────────┤\n",
       "│ squeeze_layer       │ (<span style=\"color: #00d7ff; text-decoration-color: #00d7ff\">None</span>, <span style=\"color: #00af00; text-decoration-color: #00af00\">8</span>)         │          <span style=\"color: #00af00; text-decoration-color: #00af00\">0</span> │ referee_embeddin… │\n",
       "│ (<span style=\"color: #0087ff; text-decoration-color: #0087ff\">SqueezeLayer</span>)      │                   │            │                   │\n",
       "├─────────────────────┼───────────────────┼────────────┼───────────────────┤\n",
       "│ squeeze_layer_1     │ (<span style=\"color: #00d7ff; text-decoration-color: #00d7ff\">None</span>, <span style=\"color: #00af00; text-decoration-color: #00af00\">4</span>)         │          <span style=\"color: #00af00; text-decoration-color: #00af00\">0</span> │ stance_embedding… │\n",
       "│ (<span style=\"color: #0087ff; text-decoration-color: #0087ff\">SqueezeLayer</span>)      │                   │            │                   │\n",
       "├─────────────────────┼───────────────────┼────────────┼───────────────────┤\n",
       "│ numeric             │ (<span style=\"color: #00d7ff; text-decoration-color: #00d7ff\">None</span>, <span style=\"color: #00af00; text-decoration-color: #00af00\">70</span>)        │          <span style=\"color: #00af00; text-decoration-color: #00af00\">0</span> │ -                 │\n",
       "│ (<span style=\"color: #0087ff; text-decoration-color: #0087ff\">InputLayer</span>)        │                   │            │                   │\n",
       "├─────────────────────┼───────────────────┼────────────┼───────────────────┤\n",
       "│ concatenate         │ (<span style=\"color: #00d7ff; text-decoration-color: #00d7ff\">None</span>, <span style=\"color: #00af00; text-decoration-color: #00af00\">82</span>)        │          <span style=\"color: #00af00; text-decoration-color: #00af00\">0</span> │ squeeze_layer[<span style=\"color: #00af00; text-decoration-color: #00af00\">0</span>]… │\n",
       "│ (<span style=\"color: #0087ff; text-decoration-color: #0087ff\">Concatenate</span>)       │                   │            │ squeeze_layer_1[<span style=\"color: #00af00; text-decoration-color: #00af00\">…</span> │\n",
       "│                     │                   │            │ numeric[<span style=\"color: #00af00; text-decoration-color: #00af00\">0</span>][<span style=\"color: #00af00; text-decoration-color: #00af00\">0</span>]     │\n",
       "├─────────────────────┼───────────────────┼────────────┼───────────────────┤\n",
       "│ lambda (<span style=\"color: #0087ff; text-decoration-color: #0087ff\">Lambda</span>)     │ (<span style=\"color: #00d7ff; text-decoration-color: #00d7ff\">None</span>, <span style=\"color: #00af00; text-decoration-color: #00af00\">1</span>, <span style=\"color: #00af00; text-decoration-color: #00af00\">82</span>)     │          <span style=\"color: #00af00; text-decoration-color: #00af00\">0</span> │ concatenate[<span style=\"color: #00af00; text-decoration-color: #00af00\">0</span>][<span style=\"color: #00af00; text-decoration-color: #00af00\">0</span>] │\n",
       "├─────────────────────┼───────────────────┼────────────┼───────────────────┤\n",
       "│ bidirectional       │ (<span style=\"color: #00d7ff; text-decoration-color: #00d7ff\">None</span>, <span style=\"color: #00af00; text-decoration-color: #00af00\">1</span>, <span style=\"color: #00af00; text-decoration-color: #00af00\">128</span>)    │     <span style=\"color: #00af00; text-decoration-color: #00af00\">75,264</span> │ lambda[<span style=\"color: #00af00; text-decoration-color: #00af00\">0</span>][<span style=\"color: #00af00; text-decoration-color: #00af00\">0</span>]      │\n",
       "│ (<span style=\"color: #0087ff; text-decoration-color: #0087ff\">Bidirectional</span>)     │                   │            │                   │\n",
       "├─────────────────────┼───────────────────┼────────────┼───────────────────┤\n",
       "│ layer_normalization │ (<span style=\"color: #00d7ff; text-decoration-color: #00d7ff\">None</span>, <span style=\"color: #00af00; text-decoration-color: #00af00\">1</span>, <span style=\"color: #00af00; text-decoration-color: #00af00\">128</span>)    │        <span style=\"color: #00af00; text-decoration-color: #00af00\">256</span> │ bidirectional[<span style=\"color: #00af00; text-decoration-color: #00af00\">0</span>]… │\n",
       "│ (<span style=\"color: #0087ff; text-decoration-color: #0087ff\">LayerNormalizatio…</span> │                   │            │                   │\n",
       "├─────────────────────┼───────────────────┼────────────┼───────────────────┤\n",
       "│ dropout (<span style=\"color: #0087ff; text-decoration-color: #0087ff\">Dropout</span>)   │ (<span style=\"color: #00d7ff; text-decoration-color: #00d7ff\">None</span>, <span style=\"color: #00af00; text-decoration-color: #00af00\">1</span>, <span style=\"color: #00af00; text-decoration-color: #00af00\">128</span>)    │          <span style=\"color: #00af00; text-decoration-color: #00af00\">0</span> │ layer_normalizat… │\n",
       "├─────────────────────┼───────────────────┼────────────┼───────────────────┤\n",
       "│ bidirectional_1     │ (<span style=\"color: #00d7ff; text-decoration-color: #00d7ff\">None</span>, <span style=\"color: #00af00; text-decoration-color: #00af00\">64</span>)        │     <span style=\"color: #00af00; text-decoration-color: #00af00\">41,216</span> │ dropout[<span style=\"color: #00af00; text-decoration-color: #00af00\">0</span>][<span style=\"color: #00af00; text-decoration-color: #00af00\">0</span>]     │\n",
       "│ (<span style=\"color: #0087ff; text-decoration-color: #0087ff\">Bidirectional</span>)     │                   │            │                   │\n",
       "├─────────────────────┼───────────────────┼────────────┼───────────────────┤\n",
       "│ layer_normalizatio… │ (<span style=\"color: #00d7ff; text-decoration-color: #00d7ff\">None</span>, <span style=\"color: #00af00; text-decoration-color: #00af00\">64</span>)        │        <span style=\"color: #00af00; text-decoration-color: #00af00\">128</span> │ bidirectional_1[<span style=\"color: #00af00; text-decoration-color: #00af00\">…</span> │\n",
       "│ (<span style=\"color: #0087ff; text-decoration-color: #0087ff\">LayerNormalizatio…</span> │                   │            │                   │\n",
       "├─────────────────────┼───────────────────┼────────────┼───────────────────┤\n",
       "│ dropout_1 (<span style=\"color: #0087ff; text-decoration-color: #0087ff\">Dropout</span>) │ (<span style=\"color: #00d7ff; text-decoration-color: #00d7ff\">None</span>, <span style=\"color: #00af00; text-decoration-color: #00af00\">64</span>)        │          <span style=\"color: #00af00; text-decoration-color: #00af00\">0</span> │ layer_normalizat… │\n",
       "├─────────────────────┼───────────────────┼────────────┼───────────────────┤\n",
       "│ dense (<span style=\"color: #0087ff; text-decoration-color: #0087ff\">Dense</span>)       │ (<span style=\"color: #00d7ff; text-decoration-color: #00d7ff\">None</span>, <span style=\"color: #00af00; text-decoration-color: #00af00\">32</span>)        │      <span style=\"color: #00af00; text-decoration-color: #00af00\">2,080</span> │ dropout_1[<span style=\"color: #00af00; text-decoration-color: #00af00\">0</span>][<span style=\"color: #00af00; text-decoration-color: #00af00\">0</span>]   │\n",
       "└─────────────────────┴───────────────────┴────────────┴───────────────────┘\n",
       "</pre>\n"
      ],
      "text/plain": [
       "┏━━━━━━━━━━━━━━━━━━━━━┳━━━━━━━━━━━━━━━━━━━┳━━━━━━━━━━━━┳━━━━━━━━━━━━━━━━━━━┓\n",
       "┃\u001b[1m \u001b[0m\u001b[1mLayer (type)       \u001b[0m\u001b[1m \u001b[0m┃\u001b[1m \u001b[0m\u001b[1mOutput Shape     \u001b[0m\u001b[1m \u001b[0m┃\u001b[1m \u001b[0m\u001b[1m   Param #\u001b[0m\u001b[1m \u001b[0m┃\u001b[1m \u001b[0m\u001b[1mConnected to     \u001b[0m\u001b[1m \u001b[0m┃\n",
       "┡━━━━━━━━━━━━━━━━━━━━━╇━━━━━━━━━━━━━━━━━━━╇━━━━━━━━━━━━╇━━━━━━━━━━━━━━━━━━━┩\n",
       "│ referee             │ (\u001b[38;5;45mNone\u001b[0m, \u001b[38;5;34m1\u001b[0m)         │          \u001b[38;5;34m0\u001b[0m │ -                 │\n",
       "│ (\u001b[38;5;33mInputLayer\u001b[0m)        │                   │            │                   │\n",
       "├─────────────────────┼───────────────────┼────────────┼───────────────────┤\n",
       "│ stance (\u001b[38;5;33mInputLayer\u001b[0m) │ (\u001b[38;5;45mNone\u001b[0m, \u001b[38;5;34m1\u001b[0m)         │          \u001b[38;5;34m0\u001b[0m │ -                 │\n",
       "├─────────────────────┼───────────────────┼────────────┼───────────────────┤\n",
       "│ referee_embedding   │ (\u001b[38;5;45mNone\u001b[0m, \u001b[38;5;34m1\u001b[0m, \u001b[38;5;34m8\u001b[0m)      │      \u001b[38;5;34m1,856\u001b[0m │ referee[\u001b[38;5;34m0\u001b[0m][\u001b[38;5;34m0\u001b[0m]     │\n",
       "│ (\u001b[38;5;33mEmbedding\u001b[0m)         │                   │            │                   │\n",
       "├─────────────────────┼───────────────────┼────────────┼───────────────────┤\n",
       "│ stance_embedding    │ (\u001b[38;5;45mNone\u001b[0m, \u001b[38;5;34m1\u001b[0m, \u001b[38;5;34m4\u001b[0m)      │         \u001b[38;5;34m24\u001b[0m │ stance[\u001b[38;5;34m0\u001b[0m][\u001b[38;5;34m0\u001b[0m]      │\n",
       "│ (\u001b[38;5;33mEmbedding\u001b[0m)         │                   │            │                   │\n",
       "├─────────────────────┼───────────────────┼────────────┼───────────────────┤\n",
       "│ squeeze_layer       │ (\u001b[38;5;45mNone\u001b[0m, \u001b[38;5;34m8\u001b[0m)         │          \u001b[38;5;34m0\u001b[0m │ referee_embeddin… │\n",
       "│ (\u001b[38;5;33mSqueezeLayer\u001b[0m)      │                   │            │                   │\n",
       "├─────────────────────┼───────────────────┼────────────┼───────────────────┤\n",
       "│ squeeze_layer_1     │ (\u001b[38;5;45mNone\u001b[0m, \u001b[38;5;34m4\u001b[0m)         │          \u001b[38;5;34m0\u001b[0m │ stance_embedding… │\n",
       "│ (\u001b[38;5;33mSqueezeLayer\u001b[0m)      │                   │            │                   │\n",
       "├─────────────────────┼───────────────────┼────────────┼───────────────────┤\n",
       "│ numeric             │ (\u001b[38;5;45mNone\u001b[0m, \u001b[38;5;34m70\u001b[0m)        │          \u001b[38;5;34m0\u001b[0m │ -                 │\n",
       "│ (\u001b[38;5;33mInputLayer\u001b[0m)        │                   │            │                   │\n",
       "├─────────────────────┼───────────────────┼────────────┼───────────────────┤\n",
       "│ concatenate         │ (\u001b[38;5;45mNone\u001b[0m, \u001b[38;5;34m82\u001b[0m)        │          \u001b[38;5;34m0\u001b[0m │ squeeze_layer[\u001b[38;5;34m0\u001b[0m]… │\n",
       "│ (\u001b[38;5;33mConcatenate\u001b[0m)       │                   │            │ squeeze_layer_1[\u001b[38;5;34m…\u001b[0m │\n",
       "│                     │                   │            │ numeric[\u001b[38;5;34m0\u001b[0m][\u001b[38;5;34m0\u001b[0m]     │\n",
       "├─────────────────────┼───────────────────┼────────────┼───────────────────┤\n",
       "│ lambda (\u001b[38;5;33mLambda\u001b[0m)     │ (\u001b[38;5;45mNone\u001b[0m, \u001b[38;5;34m1\u001b[0m, \u001b[38;5;34m82\u001b[0m)     │          \u001b[38;5;34m0\u001b[0m │ concatenate[\u001b[38;5;34m0\u001b[0m][\u001b[38;5;34m0\u001b[0m] │\n",
       "├─────────────────────┼───────────────────┼────────────┼───────────────────┤\n",
       "│ bidirectional       │ (\u001b[38;5;45mNone\u001b[0m, \u001b[38;5;34m1\u001b[0m, \u001b[38;5;34m128\u001b[0m)    │     \u001b[38;5;34m75,264\u001b[0m │ lambda[\u001b[38;5;34m0\u001b[0m][\u001b[38;5;34m0\u001b[0m]      │\n",
       "│ (\u001b[38;5;33mBidirectional\u001b[0m)     │                   │            │                   │\n",
       "├─────────────────────┼───────────────────┼────────────┼───────────────────┤\n",
       "│ layer_normalization │ (\u001b[38;5;45mNone\u001b[0m, \u001b[38;5;34m1\u001b[0m, \u001b[38;5;34m128\u001b[0m)    │        \u001b[38;5;34m256\u001b[0m │ bidirectional[\u001b[38;5;34m0\u001b[0m]… │\n",
       "│ (\u001b[38;5;33mLayerNormalizatio…\u001b[0m │                   │            │                   │\n",
       "├─────────────────────┼───────────────────┼────────────┼───────────────────┤\n",
       "│ dropout (\u001b[38;5;33mDropout\u001b[0m)   │ (\u001b[38;5;45mNone\u001b[0m, \u001b[38;5;34m1\u001b[0m, \u001b[38;5;34m128\u001b[0m)    │          \u001b[38;5;34m0\u001b[0m │ layer_normalizat… │\n",
       "├─────────────────────┼───────────────────┼────────────┼───────────────────┤\n",
       "│ bidirectional_1     │ (\u001b[38;5;45mNone\u001b[0m, \u001b[38;5;34m64\u001b[0m)        │     \u001b[38;5;34m41,216\u001b[0m │ dropout[\u001b[38;5;34m0\u001b[0m][\u001b[38;5;34m0\u001b[0m]     │\n",
       "│ (\u001b[38;5;33mBidirectional\u001b[0m)     │                   │            │                   │\n",
       "├─────────────────────┼───────────────────┼────────────┼───────────────────┤\n",
       "│ layer_normalizatio… │ (\u001b[38;5;45mNone\u001b[0m, \u001b[38;5;34m64\u001b[0m)        │        \u001b[38;5;34m128\u001b[0m │ bidirectional_1[\u001b[38;5;34m…\u001b[0m │\n",
       "│ (\u001b[38;5;33mLayerNormalizatio…\u001b[0m │                   │            │                   │\n",
       "├─────────────────────┼───────────────────┼────────────┼───────────────────┤\n",
       "│ dropout_1 (\u001b[38;5;33mDropout\u001b[0m) │ (\u001b[38;5;45mNone\u001b[0m, \u001b[38;5;34m64\u001b[0m)        │          \u001b[38;5;34m0\u001b[0m │ layer_normalizat… │\n",
       "├─────────────────────┼───────────────────┼────────────┼───────────────────┤\n",
       "│ dense (\u001b[38;5;33mDense\u001b[0m)       │ (\u001b[38;5;45mNone\u001b[0m, \u001b[38;5;34m32\u001b[0m)        │      \u001b[38;5;34m2,080\u001b[0m │ dropout_1[\u001b[38;5;34m0\u001b[0m][\u001b[38;5;34m0\u001b[0m]   │\n",
       "└─────────────────────┴───────────────────┴────────────┴───────────────────┘\n"
      ]
     },
     "metadata": {},
     "output_type": "display_data"
    },
    {
     "data": {
      "text/html": [
       "<pre style=\"white-space:pre;overflow-x:auto;line-height:normal;font-family:Menlo,'DejaVu Sans Mono',consolas,'Courier New',monospace\"><span style=\"font-weight: bold\"> Total params: </span><span style=\"color: #00af00; text-decoration-color: #00af00\">120,824</span> (471.97 KB)\n",
       "</pre>\n"
      ],
      "text/plain": [
       "\u001b[1m Total params: \u001b[0m\u001b[38;5;34m120,824\u001b[0m (471.97 KB)\n"
      ]
     },
     "metadata": {},
     "output_type": "display_data"
    },
    {
     "data": {
      "text/html": [
       "<pre style=\"white-space:pre;overflow-x:auto;line-height:normal;font-family:Menlo,'DejaVu Sans Mono',consolas,'Courier New',monospace\"><span style=\"font-weight: bold\"> Trainable params: </span><span style=\"color: #00af00; text-decoration-color: #00af00\">120,824</span> (471.97 KB)\n",
       "</pre>\n"
      ],
      "text/plain": [
       "\u001b[1m Trainable params: \u001b[0m\u001b[38;5;34m120,824\u001b[0m (471.97 KB)\n"
      ]
     },
     "metadata": {},
     "output_type": "display_data"
    },
    {
     "data": {
      "text/html": [
       "<pre style=\"white-space:pre;overflow-x:auto;line-height:normal;font-family:Menlo,'DejaVu Sans Mono',consolas,'Courier New',monospace\"><span style=\"font-weight: bold\"> Non-trainable params: </span><span style=\"color: #00af00; text-decoration-color: #00af00\">0</span> (0.00 B)\n",
       "</pre>\n"
      ],
      "text/plain": [
       "\u001b[1m Non-trainable params: \u001b[0m\u001b[38;5;34m0\u001b[0m (0.00 B)\n"
      ]
     },
     "metadata": {},
     "output_type": "display_data"
    },
    {
     "name": "stdout",
     "output_type": "stream",
     "text": [
      "Siamese Model Summary:\n"
     ]
    },
    {
     "data": {
      "text/html": [
       "<pre style=\"white-space:pre;overflow-x:auto;line-height:normal;font-family:Menlo,'DejaVu Sans Mono',consolas,'Courier New',monospace\"><span style=\"font-weight: bold\">Model: \"functional_1\"</span>\n",
       "</pre>\n"
      ],
      "text/plain": [
       "\u001b[1mModel: \"functional_1\"\u001b[0m\n"
      ]
     },
     "metadata": {},
     "output_type": "display_data"
    },
    {
     "data": {
      "text/html": [
       "<pre style=\"white-space:pre;overflow-x:auto;line-height:normal;font-family:Menlo,'DejaVu Sans Mono',consolas,'Courier New',monospace\">┏━━━━━━━━━━━━━━━━━━━━━┳━━━━━━━━━━━━━━━━━━━┳━━━━━━━━━━━━┳━━━━━━━━━━━━━━━━━━━┓\n",
       "┃<span style=\"font-weight: bold\"> Layer (type)        </span>┃<span style=\"font-weight: bold\"> Output Shape      </span>┃<span style=\"font-weight: bold\">    Param # </span>┃<span style=\"font-weight: bold\"> Connected to      </span>┃\n",
       "┡━━━━━━━━━━━━━━━━━━━━━╇━━━━━━━━━━━━━━━━━━━╇━━━━━━━━━━━━╇━━━━━━━━━━━━━━━━━━━┩\n",
       "│ p1_referee          │ (<span style=\"color: #00d7ff; text-decoration-color: #00d7ff\">None</span>, <span style=\"color: #00af00; text-decoration-color: #00af00\">1</span>)         │          <span style=\"color: #00af00; text-decoration-color: #00af00\">0</span> │ -                 │\n",
       "│ (<span style=\"color: #0087ff; text-decoration-color: #0087ff\">InputLayer</span>)        │                   │            │                   │\n",
       "├─────────────────────┼───────────────────┼────────────┼───────────────────┤\n",
       "│ p1_stance           │ (<span style=\"color: #00d7ff; text-decoration-color: #00d7ff\">None</span>, <span style=\"color: #00af00; text-decoration-color: #00af00\">1</span>)         │          <span style=\"color: #00af00; text-decoration-color: #00af00\">0</span> │ -                 │\n",
       "│ (<span style=\"color: #0087ff; text-decoration-color: #0087ff\">InputLayer</span>)        │                   │            │                   │\n",
       "├─────────────────────┼───────────────────┼────────────┼───────────────────┤\n",
       "│ p1_numeric          │ (<span style=\"color: #00d7ff; text-decoration-color: #00d7ff\">None</span>, <span style=\"color: #00af00; text-decoration-color: #00af00\">70</span>)        │          <span style=\"color: #00af00; text-decoration-color: #00af00\">0</span> │ -                 │\n",
       "│ (<span style=\"color: #0087ff; text-decoration-color: #0087ff\">InputLayer</span>)        │                   │            │                   │\n",
       "├─────────────────────┼───────────────────┼────────────┼───────────────────┤\n",
       "│ p2_referee          │ (<span style=\"color: #00d7ff; text-decoration-color: #00d7ff\">None</span>, <span style=\"color: #00af00; text-decoration-color: #00af00\">1</span>)         │          <span style=\"color: #00af00; text-decoration-color: #00af00\">0</span> │ -                 │\n",
       "│ (<span style=\"color: #0087ff; text-decoration-color: #0087ff\">InputLayer</span>)        │                   │            │                   │\n",
       "├─────────────────────┼───────────────────┼────────────┼───────────────────┤\n",
       "│ p2_stance           │ (<span style=\"color: #00d7ff; text-decoration-color: #00d7ff\">None</span>, <span style=\"color: #00af00; text-decoration-color: #00af00\">1</span>)         │          <span style=\"color: #00af00; text-decoration-color: #00af00\">0</span> │ -                 │\n",
       "│ (<span style=\"color: #0087ff; text-decoration-color: #0087ff\">InputLayer</span>)        │                   │            │                   │\n",
       "├─────────────────────┼───────────────────┼────────────┼───────────────────┤\n",
       "│ p2_numeric          │ (<span style=\"color: #00d7ff; text-decoration-color: #00d7ff\">None</span>, <span style=\"color: #00af00; text-decoration-color: #00af00\">70</span>)        │          <span style=\"color: #00af00; text-decoration-color: #00af00\">0</span> │ -                 │\n",
       "│ (<span style=\"color: #0087ff; text-decoration-color: #0087ff\">InputLayer</span>)        │                   │            │                   │\n",
       "├─────────────────────┼───────────────────┼────────────┼───────────────────┤\n",
       "│ functional          │ (<span style=\"color: #00d7ff; text-decoration-color: #00d7ff\">None</span>, <span style=\"color: #00af00; text-decoration-color: #00af00\">32</span>)        │    <span style=\"color: #00af00; text-decoration-color: #00af00\">120,824</span> │ p1_referee[<span style=\"color: #00af00; text-decoration-color: #00af00\">0</span>][<span style=\"color: #00af00; text-decoration-color: #00af00\">0</span>], │\n",
       "│ (<span style=\"color: #0087ff; text-decoration-color: #0087ff\">Functional</span>)        │                   │            │ p1_stance[<span style=\"color: #00af00; text-decoration-color: #00af00\">0</span>][<span style=\"color: #00af00; text-decoration-color: #00af00\">0</span>],  │\n",
       "│                     │                   │            │ p1_numeric[<span style=\"color: #00af00; text-decoration-color: #00af00\">0</span>][<span style=\"color: #00af00; text-decoration-color: #00af00\">0</span>], │\n",
       "│                     │                   │            │ p2_referee[<span style=\"color: #00af00; text-decoration-color: #00af00\">0</span>][<span style=\"color: #00af00; text-decoration-color: #00af00\">0</span>], │\n",
       "│                     │                   │            │ p2_stance[<span style=\"color: #00af00; text-decoration-color: #00af00\">0</span>][<span style=\"color: #00af00; text-decoration-color: #00af00\">0</span>],  │\n",
       "│                     │                   │            │ p2_numeric[<span style=\"color: #00af00; text-decoration-color: #00af00\">0</span>][<span style=\"color: #00af00; text-decoration-color: #00af00\">0</span>]  │\n",
       "├─────────────────────┼───────────────────┼────────────┼───────────────────┤\n",
       "│ lambda_1 (<span style=\"color: #0087ff; text-decoration-color: #0087ff\">Lambda</span>)   │ (<span style=\"color: #00d7ff; text-decoration-color: #00d7ff\">None</span>, <span style=\"color: #00af00; text-decoration-color: #00af00\">32</span>)        │          <span style=\"color: #00af00; text-decoration-color: #00af00\">0</span> │ functional[<span style=\"color: #00af00; text-decoration-color: #00af00\">0</span>][<span style=\"color: #00af00; text-decoration-color: #00af00\">0</span>], │\n",
       "│                     │                   │            │ functional[<span style=\"color: #00af00; text-decoration-color: #00af00\">1</span>][<span style=\"color: #00af00; text-decoration-color: #00af00\">0</span>]  │\n",
       "├─────────────────────┼───────────────────┼────────────┼───────────────────┤\n",
       "│ dense_1 (<span style=\"color: #0087ff; text-decoration-color: #0087ff\">Dense</span>)     │ (<span style=\"color: #00d7ff; text-decoration-color: #00d7ff\">None</span>, <span style=\"color: #00af00; text-decoration-color: #00af00\">64</span>)        │      <span style=\"color: #00af00; text-decoration-color: #00af00\">2,112</span> │ lambda_1[<span style=\"color: #00af00; text-decoration-color: #00af00\">0</span>][<span style=\"color: #00af00; text-decoration-color: #00af00\">0</span>]    │\n",
       "├─────────────────────┼───────────────────┼────────────┼───────────────────┤\n",
       "│ layer_normalizatio… │ (<span style=\"color: #00d7ff; text-decoration-color: #00d7ff\">None</span>, <span style=\"color: #00af00; text-decoration-color: #00af00\">64</span>)        │        <span style=\"color: #00af00; text-decoration-color: #00af00\">128</span> │ dense_1[<span style=\"color: #00af00; text-decoration-color: #00af00\">0</span>][<span style=\"color: #00af00; text-decoration-color: #00af00\">0</span>]     │\n",
       "│ (<span style=\"color: #0087ff; text-decoration-color: #0087ff\">LayerNormalizatio…</span> │                   │            │                   │\n",
       "├─────────────────────┼───────────────────┼────────────┼───────────────────┤\n",
       "│ dropout_2 (<span style=\"color: #0087ff; text-decoration-color: #0087ff\">Dropout</span>) │ (<span style=\"color: #00d7ff; text-decoration-color: #00d7ff\">None</span>, <span style=\"color: #00af00; text-decoration-color: #00af00\">64</span>)        │          <span style=\"color: #00af00; text-decoration-color: #00af00\">0</span> │ layer_normalizat… │\n",
       "├─────────────────────┼───────────────────┼────────────┼───────────────────┤\n",
       "│ dense_2 (<span style=\"color: #0087ff; text-decoration-color: #0087ff\">Dense</span>)     │ (<span style=\"color: #00d7ff; text-decoration-color: #00d7ff\">None</span>, <span style=\"color: #00af00; text-decoration-color: #00af00\">32</span>)        │      <span style=\"color: #00af00; text-decoration-color: #00af00\">2,080</span> │ dropout_2[<span style=\"color: #00af00; text-decoration-color: #00af00\">0</span>][<span style=\"color: #00af00; text-decoration-color: #00af00\">0</span>]   │\n",
       "├─────────────────────┼───────────────────┼────────────┼───────────────────┤\n",
       "│ layer_normalizatio… │ (<span style=\"color: #00d7ff; text-decoration-color: #00d7ff\">None</span>, <span style=\"color: #00af00; text-decoration-color: #00af00\">32</span>)        │         <span style=\"color: #00af00; text-decoration-color: #00af00\">64</span> │ dense_2[<span style=\"color: #00af00; text-decoration-color: #00af00\">0</span>][<span style=\"color: #00af00; text-decoration-color: #00af00\">0</span>]     │\n",
       "│ (<span style=\"color: #0087ff; text-decoration-color: #0087ff\">LayerNormalizatio…</span> │                   │            │                   │\n",
       "├─────────────────────┼───────────────────┼────────────┼───────────────────┤\n",
       "│ dropout_3 (<span style=\"color: #0087ff; text-decoration-color: #0087ff\">Dropout</span>) │ (<span style=\"color: #00d7ff; text-decoration-color: #00d7ff\">None</span>, <span style=\"color: #00af00; text-decoration-color: #00af00\">32</span>)        │          <span style=\"color: #00af00; text-decoration-color: #00af00\">0</span> │ layer_normalizat… │\n",
       "├─────────────────────┼───────────────────┼────────────┼───────────────────┤\n",
       "│ dense_3 (<span style=\"color: #0087ff; text-decoration-color: #0087ff\">Dense</span>)     │ (<span style=\"color: #00d7ff; text-decoration-color: #00d7ff\">None</span>, <span style=\"color: #00af00; text-decoration-color: #00af00\">1</span>)         │         <span style=\"color: #00af00; text-decoration-color: #00af00\">33</span> │ dropout_3[<span style=\"color: #00af00; text-decoration-color: #00af00\">0</span>][<span style=\"color: #00af00; text-decoration-color: #00af00\">0</span>]   │\n",
       "└─────────────────────┴───────────────────┴────────────┴───────────────────┘\n",
       "</pre>\n"
      ],
      "text/plain": [
       "┏━━━━━━━━━━━━━━━━━━━━━┳━━━━━━━━━━━━━━━━━━━┳━━━━━━━━━━━━┳━━━━━━━━━━━━━━━━━━━┓\n",
       "┃\u001b[1m \u001b[0m\u001b[1mLayer (type)       \u001b[0m\u001b[1m \u001b[0m┃\u001b[1m \u001b[0m\u001b[1mOutput Shape     \u001b[0m\u001b[1m \u001b[0m┃\u001b[1m \u001b[0m\u001b[1m   Param #\u001b[0m\u001b[1m \u001b[0m┃\u001b[1m \u001b[0m\u001b[1mConnected to     \u001b[0m\u001b[1m \u001b[0m┃\n",
       "┡━━━━━━━━━━━━━━━━━━━━━╇━━━━━━━━━━━━━━━━━━━╇━━━━━━━━━━━━╇━━━━━━━━━━━━━━━━━━━┩\n",
       "│ p1_referee          │ (\u001b[38;5;45mNone\u001b[0m, \u001b[38;5;34m1\u001b[0m)         │          \u001b[38;5;34m0\u001b[0m │ -                 │\n",
       "│ (\u001b[38;5;33mInputLayer\u001b[0m)        │                   │            │                   │\n",
       "├─────────────────────┼───────────────────┼────────────┼───────────────────┤\n",
       "│ p1_stance           │ (\u001b[38;5;45mNone\u001b[0m, \u001b[38;5;34m1\u001b[0m)         │          \u001b[38;5;34m0\u001b[0m │ -                 │\n",
       "│ (\u001b[38;5;33mInputLayer\u001b[0m)        │                   │            │                   │\n",
       "├─────────────────────┼───────────────────┼────────────┼───────────────────┤\n",
       "│ p1_numeric          │ (\u001b[38;5;45mNone\u001b[0m, \u001b[38;5;34m70\u001b[0m)        │          \u001b[38;5;34m0\u001b[0m │ -                 │\n",
       "│ (\u001b[38;5;33mInputLayer\u001b[0m)        │                   │            │                   │\n",
       "├─────────────────────┼───────────────────┼────────────┼───────────────────┤\n",
       "│ p2_referee          │ (\u001b[38;5;45mNone\u001b[0m, \u001b[38;5;34m1\u001b[0m)         │          \u001b[38;5;34m0\u001b[0m │ -                 │\n",
       "│ (\u001b[38;5;33mInputLayer\u001b[0m)        │                   │            │                   │\n",
       "├─────────────────────┼───────────────────┼────────────┼───────────────────┤\n",
       "│ p2_stance           │ (\u001b[38;5;45mNone\u001b[0m, \u001b[38;5;34m1\u001b[0m)         │          \u001b[38;5;34m0\u001b[0m │ -                 │\n",
       "│ (\u001b[38;5;33mInputLayer\u001b[0m)        │                   │            │                   │\n",
       "├─────────────────────┼───────────────────┼────────────┼───────────────────┤\n",
       "│ p2_numeric          │ (\u001b[38;5;45mNone\u001b[0m, \u001b[38;5;34m70\u001b[0m)        │          \u001b[38;5;34m0\u001b[0m │ -                 │\n",
       "│ (\u001b[38;5;33mInputLayer\u001b[0m)        │                   │            │                   │\n",
       "├─────────────────────┼───────────────────┼────────────┼───────────────────┤\n",
       "│ functional          │ (\u001b[38;5;45mNone\u001b[0m, \u001b[38;5;34m32\u001b[0m)        │    \u001b[38;5;34m120,824\u001b[0m │ p1_referee[\u001b[38;5;34m0\u001b[0m][\u001b[38;5;34m0\u001b[0m], │\n",
       "│ (\u001b[38;5;33mFunctional\u001b[0m)        │                   │            │ p1_stance[\u001b[38;5;34m0\u001b[0m][\u001b[38;5;34m0\u001b[0m],  │\n",
       "│                     │                   │            │ p1_numeric[\u001b[38;5;34m0\u001b[0m][\u001b[38;5;34m0\u001b[0m], │\n",
       "│                     │                   │            │ p2_referee[\u001b[38;5;34m0\u001b[0m][\u001b[38;5;34m0\u001b[0m], │\n",
       "│                     │                   │            │ p2_stance[\u001b[38;5;34m0\u001b[0m][\u001b[38;5;34m0\u001b[0m],  │\n",
       "│                     │                   │            │ p2_numeric[\u001b[38;5;34m0\u001b[0m][\u001b[38;5;34m0\u001b[0m]  │\n",
       "├─────────────────────┼───────────────────┼────────────┼───────────────────┤\n",
       "│ lambda_1 (\u001b[38;5;33mLambda\u001b[0m)   │ (\u001b[38;5;45mNone\u001b[0m, \u001b[38;5;34m32\u001b[0m)        │          \u001b[38;5;34m0\u001b[0m │ functional[\u001b[38;5;34m0\u001b[0m][\u001b[38;5;34m0\u001b[0m], │\n",
       "│                     │                   │            │ functional[\u001b[38;5;34m1\u001b[0m][\u001b[38;5;34m0\u001b[0m]  │\n",
       "├─────────────────────┼───────────────────┼────────────┼───────────────────┤\n",
       "│ dense_1 (\u001b[38;5;33mDense\u001b[0m)     │ (\u001b[38;5;45mNone\u001b[0m, \u001b[38;5;34m64\u001b[0m)        │      \u001b[38;5;34m2,112\u001b[0m │ lambda_1[\u001b[38;5;34m0\u001b[0m][\u001b[38;5;34m0\u001b[0m]    │\n",
       "├─────────────────────┼───────────────────┼────────────┼───────────────────┤\n",
       "│ layer_normalizatio… │ (\u001b[38;5;45mNone\u001b[0m, \u001b[38;5;34m64\u001b[0m)        │        \u001b[38;5;34m128\u001b[0m │ dense_1[\u001b[38;5;34m0\u001b[0m][\u001b[38;5;34m0\u001b[0m]     │\n",
       "│ (\u001b[38;5;33mLayerNormalizatio…\u001b[0m │                   │            │                   │\n",
       "├─────────────────────┼───────────────────┼────────────┼───────────────────┤\n",
       "│ dropout_2 (\u001b[38;5;33mDropout\u001b[0m) │ (\u001b[38;5;45mNone\u001b[0m, \u001b[38;5;34m64\u001b[0m)        │          \u001b[38;5;34m0\u001b[0m │ layer_normalizat… │\n",
       "├─────────────────────┼───────────────────┼────────────┼───────────────────┤\n",
       "│ dense_2 (\u001b[38;5;33mDense\u001b[0m)     │ (\u001b[38;5;45mNone\u001b[0m, \u001b[38;5;34m32\u001b[0m)        │      \u001b[38;5;34m2,080\u001b[0m │ dropout_2[\u001b[38;5;34m0\u001b[0m][\u001b[38;5;34m0\u001b[0m]   │\n",
       "├─────────────────────┼───────────────────┼────────────┼───────────────────┤\n",
       "│ layer_normalizatio… │ (\u001b[38;5;45mNone\u001b[0m, \u001b[38;5;34m32\u001b[0m)        │         \u001b[38;5;34m64\u001b[0m │ dense_2[\u001b[38;5;34m0\u001b[0m][\u001b[38;5;34m0\u001b[0m]     │\n",
       "│ (\u001b[38;5;33mLayerNormalizatio…\u001b[0m │                   │            │                   │\n",
       "├─────────────────────┼───────────────────┼────────────┼───────────────────┤\n",
       "│ dropout_3 (\u001b[38;5;33mDropout\u001b[0m) │ (\u001b[38;5;45mNone\u001b[0m, \u001b[38;5;34m32\u001b[0m)        │          \u001b[38;5;34m0\u001b[0m │ layer_normalizat… │\n",
       "├─────────────────────┼───────────────────┼────────────┼───────────────────┤\n",
       "│ dense_3 (\u001b[38;5;33mDense\u001b[0m)     │ (\u001b[38;5;45mNone\u001b[0m, \u001b[38;5;34m1\u001b[0m)         │         \u001b[38;5;34m33\u001b[0m │ dropout_3[\u001b[38;5;34m0\u001b[0m][\u001b[38;5;34m0\u001b[0m]   │\n",
       "└─────────────────────┴───────────────────┴────────────┴───────────────────┘\n"
      ]
     },
     "metadata": {},
     "output_type": "display_data"
    },
    {
     "data": {
      "text/html": [
       "<pre style=\"white-space:pre;overflow-x:auto;line-height:normal;font-family:Menlo,'DejaVu Sans Mono',consolas,'Courier New',monospace\"><span style=\"font-weight: bold\"> Total params: </span><span style=\"color: #00af00; text-decoration-color: #00af00\">125,241</span> (489.22 KB)\n",
       "</pre>\n"
      ],
      "text/plain": [
       "\u001b[1m Total params: \u001b[0m\u001b[38;5;34m125,241\u001b[0m (489.22 KB)\n"
      ]
     },
     "metadata": {},
     "output_type": "display_data"
    },
    {
     "data": {
      "text/html": [
       "<pre style=\"white-space:pre;overflow-x:auto;line-height:normal;font-family:Menlo,'DejaVu Sans Mono',consolas,'Courier New',monospace\"><span style=\"font-weight: bold\"> Trainable params: </span><span style=\"color: #00af00; text-decoration-color: #00af00\">125,241</span> (489.22 KB)\n",
       "</pre>\n"
      ],
      "text/plain": [
       "\u001b[1m Trainable params: \u001b[0m\u001b[38;5;34m125,241\u001b[0m (489.22 KB)\n"
      ]
     },
     "metadata": {},
     "output_type": "display_data"
    },
    {
     "data": {
      "text/html": [
       "<pre style=\"white-space:pre;overflow-x:auto;line-height:normal;font-family:Menlo,'DejaVu Sans Mono',consolas,'Courier New',monospace\"><span style=\"font-weight: bold\"> Non-trainable params: </span><span style=\"color: #00af00; text-decoration-color: #00af00\">0</span> (0.00 B)\n",
       "</pre>\n"
      ],
      "text/plain": [
       "\u001b[1m Non-trainable params: \u001b[0m\u001b[38;5;34m0\u001b[0m (0.00 B)\n"
      ]
     },
     "metadata": {},
     "output_type": "display_data"
    },
    {
     "name": "stdout",
     "output_type": "stream",
     "text": [
      "Class weights: {0: 1.3676286072772899, 1: 0.7881417208966016}\n",
      "Epoch 1/50\n",
      "\u001b[1m157/164\u001b[0m \u001b[32m━━━━━━━━━━━━━━━━━━━\u001b[0m\u001b[37m━\u001b[0m \u001b[1m0s\u001b[0m 5ms/step - accuracy: 0.5082 - loss: 1.5100 - precision: 0.6329 - recall: 0.5365"
     ]
    },
    {
     "name": "stderr",
     "output_type": "stream",
     "text": [
      "WARNING:absl:You are saving your model as an HDF5 file via `model.save()` or `keras.saving.save_model(model)`. This file format is considered legacy. We recommend using instead the native Keras format, e.g. `model.save('my_model.keras')` or `keras.saving.save_model(model, 'my_model.keras')`. \n"
     ]
    },
    {
     "name": "stdout",
     "output_type": "stream",
     "text": [
      "\u001b[1m164/164\u001b[0m \u001b[32m━━━━━━━━━━━━━━━━━━━━\u001b[0m\u001b[37m\u001b[0m \u001b[1m17s\u001b[0m 17ms/step - accuracy: 0.5088 - loss: 1.5068 - precision: 0.6336 - recall: 0.5365 - val_accuracy: 0.5856 - val_loss: 1.2381 - val_precision: 0.6956 - val_recall: 0.6240\n",
      "Epoch 2/50\n",
      "\u001b[1m164/164\u001b[0m \u001b[32m━━━━━━━━━━━━━━━━━━━━\u001b[0m\u001b[37m\u001b[0m \u001b[1m1s\u001b[0m 7ms/step - accuracy: 0.5323 - loss: 1.3146 - precision: 0.6626 - recall: 0.5370 - val_accuracy: 0.5849 - val_loss: 1.1958 - val_precision: 0.7232 - val_recall: 0.5665\n",
      "Epoch 3/50\n",
      "\u001b[1m160/164\u001b[0m \u001b[32m━━━━━━━━━━━━━━━━━━━\u001b[0m\u001b[37m━\u001b[0m \u001b[1m0s\u001b[0m 6ms/step - accuracy: 0.5450 - loss: 1.2576 - precision: 0.6690 - recall: 0.5424"
     ]
    },
    {
     "name": "stderr",
     "output_type": "stream",
     "text": [
      "WARNING:absl:You are saving your model as an HDF5 file via `model.save()` or `keras.saving.save_model(model)`. This file format is considered legacy. We recommend using instead the native Keras format, e.g. `model.save('my_model.keras')` or `keras.saving.save_model(model, 'my_model.keras')`. \n"
     ]
    },
    {
     "name": "stdout",
     "output_type": "stream",
     "text": [
      "\u001b[1m164/164\u001b[0m \u001b[32m━━━━━━━━━━━━━━━━━━━━\u001b[0m\u001b[37m\u001b[0m \u001b[1m1s\u001b[0m 7ms/step - accuracy: 0.5451 - loss: 1.2570 - precision: 0.6692 - recall: 0.5425 - val_accuracy: 0.5994 - val_loss: 1.1640 - val_precision: 0.7331 - val_recall: 0.5856\n",
      "Epoch 4/50\n",
      "\u001b[1m158/164\u001b[0m \u001b[32m━━━━━━━━━━━━━━━━━━━\u001b[0m\u001b[37m━\u001b[0m \u001b[1m0s\u001b[0m 6ms/step - accuracy: 0.5510 - loss: 1.1979 - precision: 0.6737 - recall: 0.5443"
     ]
    },
    {
     "name": "stderr",
     "output_type": "stream",
     "text": [
      "WARNING:absl:You are saving your model as an HDF5 file via `model.save()` or `keras.saving.save_model(model)`. This file format is considered legacy. We recommend using instead the native Keras format, e.g. `model.save('my_model.keras')` or `keras.saving.save_model(model, 'my_model.keras')`. \n"
     ]
    },
    {
     "name": "stdout",
     "output_type": "stream",
     "text": [
      "\u001b[1m164/164\u001b[0m \u001b[32m━━━━━━━━━━━━━━━━━━━━\u001b[0m\u001b[37m\u001b[0m \u001b[1m1s\u001b[0m 7ms/step - accuracy: 0.5513 - loss: 1.1978 - precision: 0.6744 - recall: 0.5445 - val_accuracy: 0.6170 - val_loss: 1.1378 - val_precision: 0.7478 - val_recall: 0.6036\n",
      "Epoch 5/50\n",
      "\u001b[1m164/164\u001b[0m \u001b[32m━━━━━━━━━━━━━━━━━━━━\u001b[0m\u001b[37m\u001b[0m \u001b[1m1s\u001b[0m 7ms/step - accuracy: 0.5600 - loss: 1.1759 - precision: 0.6957 - recall: 0.5502 - val_accuracy: 0.6170 - val_loss: 1.1215 - val_precision: 0.7456 - val_recall: 0.6072\n",
      "Epoch 6/50\n",
      "\u001b[1m163/164\u001b[0m \u001b[32m━━━━━━━━━━━━━━━━━━━\u001b[0m\u001b[37m━\u001b[0m \u001b[1m0s\u001b[0m 6ms/step - accuracy: 0.5730 - loss: 1.1603 - precision: 0.6930 - recall: 0.5776"
     ]
    },
    {
     "name": "stderr",
     "output_type": "stream",
     "text": [
      "WARNING:absl:You are saving your model as an HDF5 file via `model.save()` or `keras.saving.save_model(model)`. This file format is considered legacy. We recommend using instead the native Keras format, e.g. `model.save('my_model.keras')` or `keras.saving.save_model(model, 'my_model.keras')`. \n"
     ]
    },
    {
     "name": "stdout",
     "output_type": "stream",
     "text": [
      "\u001b[1m164/164\u001b[0m \u001b[32m━━━━━━━━━━━━━━━━━━━━\u001b[0m\u001b[37m\u001b[0m \u001b[1m1s\u001b[0m 7ms/step - accuracy: 0.5732 - loss: 1.1602 - precision: 0.6931 - recall: 0.5777 - val_accuracy: 0.6330 - val_loss: 1.1095 - val_precision: 0.7591 - val_recall: 0.6228\n",
      "Epoch 7/50\n",
      "\u001b[1m162/164\u001b[0m \u001b[32m━━━━━━━━━━━━━━━━━━━\u001b[0m\u001b[37m━\u001b[0m \u001b[1m0s\u001b[0m 6ms/step - accuracy: 0.5964 - loss: 1.1291 - precision: 0.7250 - recall: 0.5947"
     ]
    },
    {
     "name": "stderr",
     "output_type": "stream",
     "text": [
      "WARNING:absl:You are saving your model as an HDF5 file via `model.save()` or `keras.saving.save_model(model)`. This file format is considered legacy. We recommend using instead the native Keras format, e.g. `model.save('my_model.keras')` or `keras.saving.save_model(model, 'my_model.keras')`. \n"
     ]
    },
    {
     "name": "stdout",
     "output_type": "stream",
     "text": [
      "\u001b[1m164/164\u001b[0m \u001b[32m━━━━━━━━━━━━━━━━━━━━\u001b[0m\u001b[37m\u001b[0m \u001b[1m1s\u001b[0m 7ms/step - accuracy: 0.5964 - loss: 1.1292 - precision: 0.7249 - recall: 0.5948 - val_accuracy: 0.6445 - val_loss: 1.0989 - val_precision: 0.7769 - val_recall: 0.6216\n",
      "Epoch 8/50\n",
      "\u001b[1m164/164\u001b[0m \u001b[32m━━━━━━━━━━━━━━━━━━━━\u001b[0m\u001b[37m\u001b[0m \u001b[1m1s\u001b[0m 7ms/step - accuracy: 0.6040 - loss: 1.1282 - precision: 0.7250 - recall: 0.6011 - val_accuracy: 0.6414 - val_loss: 1.0893 - val_precision: 0.7798 - val_recall: 0.6108\n",
      "Epoch 9/50\n",
      "\u001b[1m162/164\u001b[0m \u001b[32m━━━━━━━━━━━━━━━━━━━\u001b[0m\u001b[37m━\u001b[0m \u001b[1m0s\u001b[0m 7ms/step - accuracy: 0.6080 - loss: 1.1038 - precision: 0.7356 - recall: 0.5881"
     ]
    },
    {
     "name": "stderr",
     "output_type": "stream",
     "text": [
      "WARNING:absl:You are saving your model as an HDF5 file via `model.save()` or `keras.saving.save_model(model)`. This file format is considered legacy. We recommend using instead the native Keras format, e.g. `model.save('my_model.keras')` or `keras.saving.save_model(model, 'my_model.keras')`. \n"
     ]
    },
    {
     "name": "stdout",
     "output_type": "stream",
     "text": [
      "\u001b[1m164/164\u001b[0m \u001b[32m━━━━━━━━━━━━━━━━━━━━\u001b[0m\u001b[37m\u001b[0m \u001b[1m1s\u001b[0m 9ms/step - accuracy: 0.6079 - loss: 1.1037 - precision: 0.7356 - recall: 0.5880 - val_accuracy: 0.6491 - val_loss: 1.0785 - val_precision: 0.7875 - val_recall: 0.6168\n",
      "Epoch 10/50\n",
      "\u001b[1m164/164\u001b[0m \u001b[32m━━━━━━━━━━━━━━━━━━━━\u001b[0m\u001b[37m\u001b[0m \u001b[1m1s\u001b[0m 7ms/step - accuracy: 0.6253 - loss: 1.0880 - precision: 0.7406 - recall: 0.6167 - val_accuracy: 0.6483 - val_loss: 1.0667 - val_precision: 0.7837 - val_recall: 0.6204\n",
      "Epoch 11/50\n",
      "\u001b[1m163/164\u001b[0m \u001b[32m━━━━━━━━━━━━━━━━━━━\u001b[0m\u001b[37m━\u001b[0m \u001b[1m0s\u001b[0m 6ms/step - accuracy: 0.6111 - loss: 1.0785 - precision: 0.7351 - recall: 0.5952"
     ]
    },
    {
     "name": "stderr",
     "output_type": "stream",
     "text": [
      "WARNING:absl:You are saving your model as an HDF5 file via `model.save()` or `keras.saving.save_model(model)`. This file format is considered legacy. We recommend using instead the native Keras format, e.g. `model.save('my_model.keras')` or `keras.saving.save_model(model, 'my_model.keras')`. \n"
     ]
    },
    {
     "name": "stdout",
     "output_type": "stream",
     "text": [
      "\u001b[1m164/164\u001b[0m \u001b[32m━━━━━━━━━━━━━━━━━━━━\u001b[0m\u001b[37m\u001b[0m \u001b[1m1s\u001b[0m 7ms/step - accuracy: 0.6112 - loss: 1.0785 - precision: 0.7351 - recall: 0.5954 - val_accuracy: 0.6544 - val_loss: 1.0498 - val_precision: 0.7906 - val_recall: 0.6240\n",
      "Epoch 12/50\n",
      "\u001b[1m159/164\u001b[0m \u001b[32m━━━━━━━━━━━━━━━━━━━\u001b[0m\u001b[37m━\u001b[0m \u001b[1m0s\u001b[0m 6ms/step - accuracy: 0.6233 - loss: 1.0578 - precision: 0.7484 - recall: 0.6087"
     ]
    },
    {
     "name": "stderr",
     "output_type": "stream",
     "text": [
      "WARNING:absl:You are saving your model as an HDF5 file via `model.save()` or `keras.saving.save_model(model)`. This file format is considered legacy. We recommend using instead the native Keras format, e.g. `model.save('my_model.keras')` or `keras.saving.save_model(model, 'my_model.keras')`. \n"
     ]
    },
    {
     "name": "stdout",
     "output_type": "stream",
     "text": [
      "\u001b[1m164/164\u001b[0m \u001b[32m━━━━━━━━━━━━━━━━━━━━\u001b[0m\u001b[37m\u001b[0m \u001b[1m1s\u001b[0m 7ms/step - accuracy: 0.6231 - loss: 1.0580 - precision: 0.7483 - recall: 0.6085 - val_accuracy: 0.6590 - val_loss: 1.0399 - val_precision: 0.7969 - val_recall: 0.6251\n",
      "Epoch 13/50\n",
      "\u001b[1m164/164\u001b[0m \u001b[32m━━━━━━━━━━━━━━━━━━━━\u001b[0m\u001b[37m\u001b[0m \u001b[1m1s\u001b[0m 7ms/step - accuracy: 0.6232 - loss: 1.0455 - precision: 0.7535 - recall: 0.6088 - val_accuracy: 0.6575 - val_loss: 1.0263 - val_precision: 0.7954 - val_recall: 0.6240\n",
      "Epoch 14/50\n",
      "\u001b[1m164/164\u001b[0m \u001b[32m━━━━━━━━━━━━━━━━━━━━\u001b[0m\u001b[37m\u001b[0m \u001b[1m1s\u001b[0m 7ms/step - accuracy: 0.6256 - loss: 1.0386 - precision: 0.7548 - recall: 0.6007 - val_accuracy: 0.6575 - val_loss: 1.0192 - val_precision: 0.7991 - val_recall: 0.6192\n",
      "Epoch 15/50\n",
      "\u001b[1m164/164\u001b[0m \u001b[32m━━━━━━━━━━━━━━━━━━━━\u001b[0m\u001b[37m\u001b[0m \u001b[1m1s\u001b[0m 7ms/step - accuracy: 0.6387 - loss: 1.0225 - precision: 0.7591 - recall: 0.6155 - val_accuracy: 0.6521 - val_loss: 1.0115 - val_precision: 0.7969 - val_recall: 0.6108\n",
      "Epoch 16/50\n",
      "\u001b[1m164/164\u001b[0m \u001b[32m━━━━━━━━━━━━━━━━━━━━\u001b[0m\u001b[37m\u001b[0m \u001b[1m1s\u001b[0m 7ms/step - accuracy: 0.6285 - loss: 1.0207 - precision: 0.7523 - recall: 0.6133 - val_accuracy: 0.6491 - val_loss: 1.0060 - val_precision: 0.7910 - val_recall: 0.6120\n",
      "Epoch 17/50\n",
      "\u001b[1m159/164\u001b[0m \u001b[32m━━━━━━━━━━━━━━━━━━━\u001b[0m\u001b[37m━\u001b[0m \u001b[1m0s\u001b[0m 6ms/step - accuracy: 0.6548 - loss: 0.9859 - precision: 0.7840 - recall: 0.6348"
     ]
    },
    {
     "name": "stderr",
     "output_type": "stream",
     "text": [
      "WARNING:absl:You are saving your model as an HDF5 file via `model.save()` or `keras.saving.save_model(model)`. This file format is considered legacy. We recommend using instead the native Keras format, e.g. `model.save('my_model.keras')` or `keras.saving.save_model(model, 'my_model.keras')`. \n"
     ]
    },
    {
     "name": "stdout",
     "output_type": "stream",
     "text": [
      "\u001b[1m164/164\u001b[0m \u001b[32m━━━━━━━━━━━━━━━━━━━━\u001b[0m\u001b[37m\u001b[0m \u001b[1m1s\u001b[0m 8ms/step - accuracy: 0.6545 - loss: 0.9862 - precision: 0.7836 - recall: 0.6345 - val_accuracy: 0.6651 - val_loss: 0.9852 - val_precision: 0.8040 - val_recall: 0.6287\n",
      "Epoch 18/50\n",
      "\u001b[1m164/164\u001b[0m \u001b[32m━━━━━━━━━━━━━━━━━━━━\u001b[0m\u001b[37m\u001b[0m \u001b[1m1s\u001b[0m 7ms/step - accuracy: 0.6520 - loss: 0.9974 - precision: 0.7634 - recall: 0.6388 - val_accuracy: 0.6651 - val_loss: 0.9794 - val_precision: 0.7994 - val_recall: 0.6347\n",
      "Epoch 19/50\n",
      "\u001b[1m162/164\u001b[0m \u001b[32m━━━━━━━━━━━━━━━━━━━\u001b[0m\u001b[37m━\u001b[0m \u001b[1m0s\u001b[0m 6ms/step - accuracy: 0.6546 - loss: 0.9818 - precision: 0.7614 - recall: 0.6417"
     ]
    },
    {
     "name": "stderr",
     "output_type": "stream",
     "text": [
      "WARNING:absl:You are saving your model as an HDF5 file via `model.save()` or `keras.saving.save_model(model)`. This file format is considered legacy. We recommend using instead the native Keras format, e.g. `model.save('my_model.keras')` or `keras.saving.save_model(model, 'my_model.keras')`. \n"
     ]
    },
    {
     "name": "stdout",
     "output_type": "stream",
     "text": [
      "\u001b[1m164/164\u001b[0m \u001b[32m━━━━━━━━━━━━━━━━━━━━\u001b[0m\u001b[37m\u001b[0m \u001b[1m1s\u001b[0m 7ms/step - accuracy: 0.6545 - loss: 0.9817 - precision: 0.7615 - recall: 0.6415 - val_accuracy: 0.6705 - val_loss: 0.9681 - val_precision: 0.7971 - val_recall: 0.6491\n",
      "Epoch 20/50\n",
      "\u001b[1m164/164\u001b[0m \u001b[32m━━━━━━━━━━━━━━━━━━━━\u001b[0m\u001b[37m\u001b[0m \u001b[1m1s\u001b[0m 7ms/step - accuracy: 0.6544 - loss: 0.9591 - precision: 0.7797 - recall: 0.6358 - val_accuracy: 0.6636 - val_loss: 0.9633 - val_precision: 0.8043 - val_recall: 0.6251\n",
      "Epoch 21/50\n",
      "\u001b[1m164/164\u001b[0m \u001b[32m━━━━━━━━━━━━━━━━━━━━\u001b[0m\u001b[37m\u001b[0m \u001b[1m1s\u001b[0m 7ms/step - accuracy: 0.6556 - loss: 0.9555 - precision: 0.7806 - recall: 0.6379 - val_accuracy: 0.6606 - val_loss: 0.9523 - val_precision: 0.8050 - val_recall: 0.6180\n",
      "Epoch 22/50\n",
      "\u001b[1m164/164\u001b[0m \u001b[32m━━━━━━━━━━━━━━━━━━━━\u001b[0m\u001b[37m\u001b[0m \u001b[1m1s\u001b[0m 7ms/step - accuracy: 0.6715 - loss: 0.9372 - precision: 0.8001 - recall: 0.6435 - val_accuracy: 0.6628 - val_loss: 0.9420 - val_precision: 0.8050 - val_recall: 0.6228\n",
      "Epoch 23/50\n",
      "\u001b[1m160/164\u001b[0m \u001b[32m━━━━━━━━━━━━━━━━━━━\u001b[0m\u001b[37m━\u001b[0m \u001b[1m0s\u001b[0m 6ms/step - accuracy: 0.6524 - loss: 0.9391 - precision: 0.7724 - recall: 0.6355"
     ]
    },
    {
     "name": "stderr",
     "output_type": "stream",
     "text": [
      "WARNING:absl:You are saving your model as an HDF5 file via `model.save()` or `keras.saving.save_model(model)`. This file format is considered legacy. We recommend using instead the native Keras format, e.g. `model.save('my_model.keras')` or `keras.saving.save_model(model, 'my_model.keras')`. \n"
     ]
    },
    {
     "name": "stdout",
     "output_type": "stream",
     "text": [
      "\u001b[1m164/164\u001b[0m \u001b[32m━━━━━━━━━━━━━━━━━━━━\u001b[0m\u001b[37m\u001b[0m \u001b[1m1s\u001b[0m 7ms/step - accuracy: 0.6524 - loss: 0.9389 - precision: 0.7726 - recall: 0.6353 - val_accuracy: 0.6751 - val_loss: 0.9306 - val_precision: 0.8203 - val_recall: 0.6287\n",
      "Epoch 24/50\n",
      "\u001b[1m164/164\u001b[0m \u001b[32m━━━━━━━━━━━━━━━━━━━━\u001b[0m\u001b[37m\u001b[0m \u001b[1m1s\u001b[0m 7ms/step - accuracy: 0.6539 - loss: 0.9348 - precision: 0.7765 - recall: 0.6322 - val_accuracy: 0.6651 - val_loss: 0.9257 - val_precision: 0.8068 - val_recall: 0.6251\n",
      "Epoch 25/50\n",
      "\u001b[1m164/164\u001b[0m \u001b[32m━━━━━━━━━━━━━━━━━━━━\u001b[0m\u001b[37m\u001b[0m \u001b[1m1s\u001b[0m 7ms/step - accuracy: 0.6691 - loss: 0.9038 - precision: 0.7973 - recall: 0.6435 - val_accuracy: 0.6743 - val_loss: 0.9197 - val_precision: 0.8190 - val_recall: 0.6287\n",
      "Epoch 26/50\n",
      "\u001b[1m164/164\u001b[0m \u001b[32m━━━━━━━━━━━━━━━━━━━━\u001b[0m\u001b[37m\u001b[0m \u001b[1m1s\u001b[0m 7ms/step - accuracy: 0.6486 - loss: 0.9041 - precision: 0.7731 - recall: 0.6393 - val_accuracy: 0.6728 - val_loss: 0.9101 - val_precision: 0.8195 - val_recall: 0.6251\n",
      "Epoch 27/50\n",
      "\u001b[1m161/164\u001b[0m \u001b[32m━━━━━━━━━━━━━━━━━━━\u001b[0m\u001b[37m━\u001b[0m \u001b[1m0s\u001b[0m 6ms/step - accuracy: 0.6728 - loss: 0.8855 - precision: 0.8022 - recall: 0.6411"
     ]
    },
    {
     "name": "stderr",
     "output_type": "stream",
     "text": [
      "WARNING:absl:You are saving your model as an HDF5 file via `model.save()` or `keras.saving.save_model(model)`. This file format is considered legacy. We recommend using instead the native Keras format, e.g. `model.save('my_model.keras')` or `keras.saving.save_model(model, 'my_model.keras')`. \n"
     ]
    },
    {
     "name": "stdout",
     "output_type": "stream",
     "text": [
      "\u001b[1m164/164\u001b[0m \u001b[32m━━━━━━━━━━━━━━━━━━━━\u001b[0m\u001b[37m\u001b[0m \u001b[1m1s\u001b[0m 7ms/step - accuracy: 0.6728 - loss: 0.8855 - precision: 0.8020 - recall: 0.6413 - val_accuracy: 0.6758 - val_loss: 0.9007 - val_precision: 0.8166 - val_recall: 0.6347\n",
      "Epoch 28/50\n",
      "\u001b[1m164/164\u001b[0m \u001b[32m━━━━━━━━━━━━━━━━━━━━\u001b[0m\u001b[37m\u001b[0m \u001b[1m1s\u001b[0m 7ms/step - accuracy: 0.6694 - loss: 0.8874 - precision: 0.7845 - recall: 0.6603 - val_accuracy: 0.6758 - val_loss: 0.8915 - val_precision: 0.8206 - val_recall: 0.6299\n",
      "Epoch 29/50\n",
      "\u001b[1m164/164\u001b[0m \u001b[32m━━━━━━━━━━━━━━━━━━━━\u001b[0m\u001b[37m\u001b[0m \u001b[1m1s\u001b[0m 7ms/step - accuracy: 0.6777 - loss: 0.8636 - precision: 0.8016 - recall: 0.6607 - val_accuracy: 0.6751 - val_loss: 0.8832 - val_precision: 0.8135 - val_recall: 0.6371\n",
      "Epoch 30/50\n",
      "\u001b[1m164/164\u001b[0m \u001b[32m━━━━━━━━━━━━━━━━━━━━\u001b[0m\u001b[37m\u001b[0m \u001b[1m1s\u001b[0m 7ms/step - accuracy: 0.6629 - loss: 0.8663 - precision: 0.7844 - recall: 0.6412 - val_accuracy: 0.6720 - val_loss: 0.8760 - val_precision: 0.8039 - val_recall: 0.6431\n",
      "Epoch 31/50\n",
      "\u001b[1m162/164\u001b[0m \u001b[32m━━━━━━━━━━━━━━━━━━━\u001b[0m\u001b[37m━\u001b[0m \u001b[1m0s\u001b[0m 6ms/step - accuracy: 0.6853 - loss: 0.8500 - precision: 0.7997 - recall: 0.6767"
     ]
    },
    {
     "name": "stderr",
     "output_type": "stream",
     "text": [
      "WARNING:absl:You are saving your model as an HDF5 file via `model.save()` or `keras.saving.save_model(model)`. This file format is considered legacy. We recommend using instead the native Keras format, e.g. `model.save('my_model.keras')` or `keras.saving.save_model(model, 'my_model.keras')`. \n"
     ]
    },
    {
     "name": "stdout",
     "output_type": "stream",
     "text": [
      "\u001b[1m164/164\u001b[0m \u001b[32m━━━━━━━━━━━━━━━━━━━━\u001b[0m\u001b[37m\u001b[0m \u001b[1m1s\u001b[0m 7ms/step - accuracy: 0.6852 - loss: 0.8500 - precision: 0.7996 - recall: 0.6764 - val_accuracy: 0.6789 - val_loss: 0.8658 - val_precision: 0.8074 - val_recall: 0.6527\n",
      "Epoch 32/50\n",
      "\u001b[1m164/164\u001b[0m \u001b[32m━━━━━━━━━━━━━━━━━━━━\u001b[0m\u001b[37m\u001b[0m \u001b[1m1s\u001b[0m 8ms/step - accuracy: 0.6808 - loss: 0.8387 - precision: 0.8027 - recall: 0.6591 - val_accuracy: 0.6766 - val_loss: 0.8571 - val_precision: 0.8093 - val_recall: 0.6455\n",
      "Epoch 33/50\n",
      "\u001b[1m158/164\u001b[0m \u001b[32m━━━━━━━━━━━━━━━━━━━\u001b[0m\u001b[37m━\u001b[0m \u001b[1m0s\u001b[0m 6ms/step - accuracy: 0.6698 - loss: 0.8371 - precision: 0.7919 - recall: 0.6510"
     ]
    },
    {
     "name": "stderr",
     "output_type": "stream",
     "text": [
      "WARNING:absl:You are saving your model as an HDF5 file via `model.save()` or `keras.saving.save_model(model)`. This file format is considered legacy. We recommend using instead the native Keras format, e.g. `model.save('my_model.keras')` or `keras.saving.save_model(model, 'my_model.keras')`. \n"
     ]
    },
    {
     "name": "stdout",
     "output_type": "stream",
     "text": [
      "\u001b[1m164/164\u001b[0m \u001b[32m━━━━━━━━━━━━━━━━━━━━\u001b[0m\u001b[37m\u001b[0m \u001b[1m1s\u001b[0m 8ms/step - accuracy: 0.6701 - loss: 0.8369 - precision: 0.7919 - recall: 0.6514 - val_accuracy: 0.6812 - val_loss: 0.8510 - val_precision: 0.8101 - val_recall: 0.6539\n",
      "Epoch 34/50\n",
      "\u001b[1m162/164\u001b[0m \u001b[32m━━━━━━━━━━━━━━━━━━━\u001b[0m\u001b[37m━\u001b[0m \u001b[1m0s\u001b[0m 6ms/step - accuracy: 0.6809 - loss: 0.8261 - precision: 0.7996 - recall: 0.6545"
     ]
    },
    {
     "name": "stderr",
     "output_type": "stream",
     "text": [
      "WARNING:absl:You are saving your model as an HDF5 file via `model.save()` or `keras.saving.save_model(model)`. This file format is considered legacy. We recommend using instead the native Keras format, e.g. `model.save('my_model.keras')` or `keras.saving.save_model(model, 'my_model.keras')`. \n"
     ]
    },
    {
     "name": "stdout",
     "output_type": "stream",
     "text": [
      "\u001b[1m164/164\u001b[0m \u001b[32m━━━━━━━━━━━━━━━━━━━━\u001b[0m\u001b[37m\u001b[0m \u001b[1m1s\u001b[0m 7ms/step - accuracy: 0.6810 - loss: 0.8259 - precision: 0.7997 - recall: 0.6546 - val_accuracy: 0.6843 - val_loss: 0.8449 - val_precision: 0.8006 - val_recall: 0.6731\n",
      "Epoch 35/50\n",
      "\u001b[1m159/164\u001b[0m \u001b[32m━━━━━━━━━━━━━━━━━━━\u001b[0m\u001b[37m━\u001b[0m \u001b[1m0s\u001b[0m 6ms/step - accuracy: 0.6809 - loss: 0.8294 - precision: 0.7890 - recall: 0.6592"
     ]
    },
    {
     "name": "stderr",
     "output_type": "stream",
     "text": [
      "WARNING:absl:You are saving your model as an HDF5 file via `model.save()` or `keras.saving.save_model(model)`. This file format is considered legacy. We recommend using instead the native Keras format, e.g. `model.save('my_model.keras')` or `keras.saving.save_model(model, 'my_model.keras')`. \n"
     ]
    },
    {
     "name": "stdout",
     "output_type": "stream",
     "text": [
      "\u001b[1m164/164\u001b[0m \u001b[32m━━━━━━━━━━━━━━━━━━━━\u001b[0m\u001b[37m\u001b[0m \u001b[1m1s\u001b[0m 7ms/step - accuracy: 0.6811 - loss: 0.8290 - precision: 0.7895 - recall: 0.6596 - val_accuracy: 0.6904 - val_loss: 0.8418 - val_precision: 0.8125 - val_recall: 0.6695\n",
      "Epoch 36/50\n",
      "\u001b[1m160/164\u001b[0m \u001b[32m━━━━━━━━━━━━━━━━━━━\u001b[0m\u001b[37m━\u001b[0m \u001b[1m0s\u001b[0m 6ms/step - accuracy: 0.6799 - loss: 0.8242 - precision: 0.7829 - recall: 0.6723"
     ]
    },
    {
     "name": "stderr",
     "output_type": "stream",
     "text": [
      "WARNING:absl:You are saving your model as an HDF5 file via `model.save()` or `keras.saving.save_model(model)`. This file format is considered legacy. We recommend using instead the native Keras format, e.g. `model.save('my_model.keras')` or `keras.saving.save_model(model, 'my_model.keras')`. \n"
     ]
    },
    {
     "name": "stdout",
     "output_type": "stream",
     "text": [
      "\u001b[1m164/164\u001b[0m \u001b[32m━━━━━━━━━━━━━━━━━━━━\u001b[0m\u001b[37m\u001b[0m \u001b[1m1s\u001b[0m 8ms/step - accuracy: 0.6800 - loss: 0.8238 - precision: 0.7833 - recall: 0.6723 - val_accuracy: 0.6911 - val_loss: 0.8313 - val_precision: 0.8119 - val_recall: 0.6719\n",
      "Epoch 37/50\n",
      "\u001b[1m164/164\u001b[0m \u001b[32m━━━━━━━━━━━━━━━━━━━━\u001b[0m\u001b[37m\u001b[0m \u001b[1m1s\u001b[0m 7ms/step - accuracy: 0.6883 - loss: 0.7990 - precision: 0.8065 - recall: 0.6722 - val_accuracy: 0.6781 - val_loss: 0.8258 - val_precision: 0.8044 - val_recall: 0.6551\n",
      "Epoch 38/50\n",
      "\u001b[1m164/164\u001b[0m \u001b[32m━━━━━━━━━━━━━━━━━━━━\u001b[0m\u001b[37m\u001b[0m \u001b[1m1s\u001b[0m 7ms/step - accuracy: 0.6891 - loss: 0.7932 - precision: 0.7988 - recall: 0.6759 - val_accuracy: 0.6843 - val_loss: 0.8221 - val_precision: 0.8085 - val_recall: 0.6623\n",
      "Epoch 39/50\n",
      "\u001b[1m164/164\u001b[0m \u001b[32m━━━━━━━━━━━━━━━━━━━━\u001b[0m\u001b[37m\u001b[0m \u001b[1m1s\u001b[0m 8ms/step - accuracy: 0.7015 - loss: 0.7812 - precision: 0.8168 - recall: 0.6830 - val_accuracy: 0.6797 - val_loss: 0.8194 - val_precision: 0.8023 - val_recall: 0.6611\n",
      "Epoch 40/50\n",
      "\u001b[1m164/164\u001b[0m \u001b[32m━━━━━━━━━━━━━━━━━━━━\u001b[0m\u001b[37m\u001b[0m \u001b[1m2s\u001b[0m 11ms/step - accuracy: 0.6881 - loss: 0.7721 - precision: 0.7955 - recall: 0.6753 - val_accuracy: 0.6911 - val_loss: 0.8135 - val_precision: 0.8110 - val_recall: 0.6731\n",
      "Epoch 41/50\n",
      "\u001b[1m164/164\u001b[0m \u001b[32m━━━━━━━━━━━━━━━━━━━━\u001b[0m\u001b[37m\u001b[0m \u001b[1m1s\u001b[0m 8ms/step - accuracy: 0.6987 - loss: 0.7695 - precision: 0.8105 - recall: 0.6891 - val_accuracy: 0.6888 - val_loss: 0.8038 - val_precision: 0.8057 - val_recall: 0.6754\n",
      "Epoch 42/50\n",
      "\u001b[1m164/164\u001b[0m \u001b[32m━━━━━━━━━━━━━━━━━━━━\u001b[0m\u001b[37m\u001b[0m \u001b[1m1s\u001b[0m 9ms/step - accuracy: 0.6997 - loss: 0.7557 - precision: 0.8064 - recall: 0.6970 - val_accuracy: 0.6858 - val_loss: 0.8005 - val_precision: 0.8046 - val_recall: 0.6707\n",
      "Epoch 43/50\n",
      "\u001b[1m164/164\u001b[0m \u001b[32m━━━━━━━━━━━━━━━━━━━━\u001b[0m\u001b[37m\u001b[0m \u001b[1m1s\u001b[0m 8ms/step - accuracy: 0.7018 - loss: 0.7517 - precision: 0.8097 - recall: 0.6865 - val_accuracy: 0.6865 - val_loss: 0.7917 - val_precision: 0.8093 - val_recall: 0.6659\n",
      "Epoch 44/50\n",
      "\u001b[1m161/164\u001b[0m \u001b[32m━━━━━━━━━━━━━━━━━━━\u001b[0m\u001b[37m━\u001b[0m \u001b[1m0s\u001b[0m 6ms/step - accuracy: 0.6958 - loss: 0.7556 - precision: 0.8084 - recall: 0.6843"
     ]
    },
    {
     "name": "stderr",
     "output_type": "stream",
     "text": [
      "WARNING:absl:You are saving your model as an HDF5 file via `model.save()` or `keras.saving.save_model(model)`. This file format is considered legacy. We recommend using instead the native Keras format, e.g. `model.save('my_model.keras')` or `keras.saving.save_model(model, 'my_model.keras')`. \n"
     ]
    },
    {
     "name": "stdout",
     "output_type": "stream",
     "text": [
      "\u001b[1m164/164\u001b[0m \u001b[32m━━━━━━━━━━━━━━━━━━━━\u001b[0m\u001b[37m\u001b[0m \u001b[1m1s\u001b[0m 8ms/step - accuracy: 0.6958 - loss: 0.7556 - precision: 0.8085 - recall: 0.6841 - val_accuracy: 0.6972 - val_loss: 0.7888 - val_precision: 0.8122 - val_recall: 0.6838\n",
      "Epoch 45/50\n",
      "\u001b[1m164/164\u001b[0m \u001b[32m━━━━━━━━━━━━━━━━━━━━\u001b[0m\u001b[37m\u001b[0m \u001b[1m1s\u001b[0m 9ms/step - accuracy: 0.7044 - loss: 0.7381 - precision: 0.8142 - recall: 0.6995 - val_accuracy: 0.6827 - val_loss: 0.7917 - val_precision: 0.8052 - val_recall: 0.6635\n",
      "Epoch 46/50\n",
      "\u001b[1m164/164\u001b[0m \u001b[32m━━━━━━━━━━━━━━━━━━━━\u001b[0m\u001b[37m\u001b[0m \u001b[1m1s\u001b[0m 8ms/step - accuracy: 0.6825 - loss: 0.7437 - precision: 0.8033 - recall: 0.6612 - val_accuracy: 0.6850 - val_loss: 0.7829 - val_precision: 0.7975 - val_recall: 0.6790\n",
      "Epoch 47/50\n",
      "\u001b[1m164/164\u001b[0m \u001b[32m━━━━━━━━━━━━━━━━━━━━\u001b[0m\u001b[37m\u001b[0m \u001b[1m1s\u001b[0m 8ms/step - accuracy: 0.7156 - loss: 0.7223 - precision: 0.8184 - recall: 0.7097 - val_accuracy: 0.6720 - val_loss: 0.7818 - val_precision: 0.7951 - val_recall: 0.6551\n",
      "Epoch 48/50\n",
      "\u001b[1m164/164\u001b[0m \u001b[32m━━━━━━━━━━━━━━━━━━━━\u001b[0m\u001b[37m\u001b[0m \u001b[1m1s\u001b[0m 7ms/step - accuracy: 0.7046 - loss: 0.7365 - precision: 0.8149 - recall: 0.6891 - val_accuracy: 0.6743 - val_loss: 0.7851 - val_precision: 0.8039 - val_recall: 0.6479\n",
      "Epoch 49/50\n",
      "\u001b[1m164/164\u001b[0m \u001b[32m━━━━━━━━━━━━━━━━━━━━\u001b[0m\u001b[37m\u001b[0m \u001b[1m1s\u001b[0m 7ms/step - accuracy: 0.6813 - loss: 0.7321 - precision: 0.8067 - recall: 0.6598 - val_accuracy: 0.6873 - val_loss: 0.7763 - val_precision: 0.8078 - val_recall: 0.6695\n",
      "Epoch 50/50\n",
      "\u001b[1m164/164\u001b[0m \u001b[32m━━━━━━━━━━━━━━━━━━━━\u001b[0m\u001b[37m\u001b[0m \u001b[1m1s\u001b[0m 7ms/step - accuracy: 0.7025 - loss: 0.7206 - precision: 0.8151 - recall: 0.6864 - val_accuracy: 0.6865 - val_loss: 0.7678 - val_precision: 0.8075 - val_recall: 0.6683\n",
      "\u001b[1m52/52\u001b[0m \u001b[32m━━━━━━━━━━━━━━━━━━━━\u001b[0m\u001b[37m\u001b[0m \u001b[1m0s\u001b[0m 3ms/step - accuracy: 0.6722 - loss: 0.7750 - precision: 0.7912 - recall: 0.6748\n",
      "\n",
      "Test Results:\n",
      "Test accuracy: 0.6693\n",
      "Test precision: 0.7901\n",
      "Test recall: 0.6561\n"
     ]
    },
    {
     "data": {
      "image/png": "[encoded data removed]",
      "text/plain": [
       "<Figure size 1200x400 with 2 Axes>"
      ]
     },
     "metadata": {},
     "output_type": "display_data"
    }
   ],
   "source": [
    "import pandas as pd\n",
    "import numpy as np\n",
    "import tensorflow as tf\n",
    "from tensorflow.keras.layers import Input, Embedding, Concatenate, LSTM, Bidirectional, Dense, Lambda, Dropout, LayerNormalization\n",
    "from tensorflow.keras.models import Model\n",
    "from tensorflow.keras.callbacks import EarlyStopping, ModelCheckpoint\n",
    "from tensorflow.keras.regularizers import l2\n",
    "import matplotlib.pyplot as plt\n",
    "from sklearn.preprocessing import LabelEncoder, StandardScaler\n",
    "from sklearn.model_selection import train_test_split\n",
    "\n",
    "# ============= DATA PREPARATION =============\n",
    "\n",
    "# Import the CSV file\n",
    "feature_df = pd.read_csv('ufc_features.csv')\n",
    "pd.set_option('display.max_columns', None)\n",
    "pd.set_option('display.max_rows', None)\n",
    "\n",
    "# Drop the columns\n",
    "columns_to_drop = ['p1_fighter', 'p2_fighter', 'event_date']\n",
    "feature_df = feature_df.drop(columns=[col for col in columns_to_drop if col in feature_df.columns])\n",
    "cols_to_drop = [col for col in feature_df.columns if col.startswith('method_')]\n",
    "feature_df.drop(columns=cols_to_drop, inplace=True)\n",
    "\n",
    "# Clean all column names\n",
    "def clean_column_name(col):\n",
    "    return col.lower().replace(' ', '_').replace('.', '').replace('-', '_')\n",
    "\n",
    "# Apply to all columns\n",
    "feature_df.columns = [clean_column_name(col) for col in feature_df.columns]\n",
    "\n",
    "# Print column names to debug\n",
    "print(\"Available columns:\")\n",
    "print(feature_df.columns.tolist())\n",
    "\n",
    "# --- Encode categorical features ---\n",
    "# Check if stance columns exist before encoding\n",
    "if 'p1_stance' in feature_df.columns and 'p2_stance' in feature_df.columns:\n",
    "    stance_le = LabelEncoder()\n",
    "    all_stances = pd.concat([feature_df['p1_stance'], feature_df['p2_stance']])\n",
    "    stance_le.fit(all_stances)\n",
    "    feature_df['p1_stance'] = stance_le.transform(feature_df['p1_stance'])\n",
    "    feature_df['p2_stance'] = stance_le.transform(feature_df['p2_stance'])\n",
    "else:\n",
    "    print(\"Warning: Stance columns not found\")\n",
    "    # Add dummy stance columns if needed\n",
    "    feature_df['p1_stance'] = 0\n",
    "    feature_df['p2_stance'] = 0\n",
    "\n",
    "# Check if referee column exists before encoding\n",
    "if 'referee' in feature_df.columns:\n",
    "    referee_le = LabelEncoder()\n",
    "    referee_le.fit(feature_df['referee'])\n",
    "    feature_df['referee'] = referee_le.transform(feature_df['referee'])\n",
    "else:\n",
    "    print(\"Warning: Referee column not found\")\n",
    "    # Add dummy referee column if needed\n",
    "    feature_df['referee'] = 0\n",
    "\n",
    "# Define the base features we expect to find\n",
    "base_numeric_feats = [\n",
    "    'height', 'weight', 'reach', 'slpm', 'str_acc', 'sapm', 'str_def',\n",
    "    'td_avg', 'td_acc', 'td_def', 'sub_avg', 'age_at_event',\n",
    "    # Adding fight history metrics\n",
    "    # 'days_since_last_fight', 'wins', 'losses', 'total', 'win_streak',\n",
    "    # Adding age-adjusted metrics\n",
    "    'age_adjusted_slpm', 'age_adjusted_str_acc', 'age_adjusted_sapm',\n",
    "    'age_adjusted_str_def', 'age_adjusted_td_avg', 'age_adjusted_td_acc',\n",
    "    'age_adjusted_td_def', 'age_adjusted_sub_avg',\n",
    "    # Adding EMA metrics\n",
    "    'kd_ema', 'sig_str_pct_ema', 'td_pct_ema', 'sub_att_ema', 'rev_ema',\n",
    "    'ctrl_ema', 'r1_kd_ema', 'r1_sig_str_pct_ema', 'r1_td_pct_ema',\n",
    "    'r1_sub_att_ema', 'r1_rev_ema', 'r1_ctrl_ema',\n",
    "    'sig_str_pct_detailed_ema', 'r1_sig_str_pct_detailed_ema',\n",
    "    'sig_str_landed_ema', 'sig_str_attempted_ema',\n",
    "    'total_str_landed_ema', 'total_str_attempted_ema',\n",
    "    'td_landed_ema', 'td_attempted_ema',\n",
    "    'r1_sig_str_landed_ema', 'r1_sig_str_attempted_ema',\n",
    "    'r1_total_str_landed_ema', 'r1_total_str_attempted_ema',\n",
    "    'r1_td_landed_ema', 'r1_td_attempted_ema',\n",
    "    'head_landed_ema', 'head_attempted_ema',\n",
    "    'body_landed_ema', 'body_attempted_ema',\n",
    "    'leg_landed_ema', 'leg_attempted_ema',\n",
    "    'distance_landed_ema', 'distance_attempted_ema',\n",
    "    'clinch_landed_ema', 'clinch_attempted_ema',\n",
    "    'ground_landed_ema', 'ground_attempted_ema',\n",
    "    'r1_head_landed_ema', 'r1_head_attempted_ema',\n",
    "    'r1_body_landed_ema', 'r1_body_attempted_ema',\n",
    "    'r1_leg_landed_ema', 'r1_leg_attempted_ema',\n",
    "    'r1_distance_landed_ema', 'r1_distance_attempted_ema',\n",
    "    'r1_clinch_landed_ema', 'r1_clinch_attempted_ema',\n",
    "    'r1_ground_landed_ema', 'r1_ground_attempted_ema'\n",
    "]\n",
    "\n",
    "# Find which features actually exist in the DataFrame with p1/p2 prefixes\n",
    "available_numeric_feats = []\n",
    "for feat in base_numeric_feats:\n",
    "    if f'p1_{feat}' in feature_df.columns and f'p2_{feat}' in feature_df.columns:\n",
    "        available_numeric_feats.append(feat)\n",
    "\n",
    "print(f\"Found {len(available_numeric_feats)} available numeric features\")\n",
    "print(\"Available features:\", available_numeric_feats)\n",
    "\n",
    "# Use only available features\n",
    "numeric_feats = available_numeric_feats\n",
    "\n",
    "p1_numeric = ['p1_' + f for f in numeric_feats]\n",
    "p2_numeric = ['p2_' + f for f in numeric_feats]\n",
    "\n",
    "# Handle potential NaN values\n",
    "feature_df[p1_numeric + p2_numeric] = feature_df[p1_numeric + p2_numeric].fillna(0)\n",
    "\n",
    "# Scale numeric features\n",
    "scaler = StandardScaler()\n",
    "feature_df[p1_numeric + p2_numeric] = scaler.fit_transform(feature_df[p1_numeric + p2_numeric])\n",
    "\n",
    "# --- Prepare features for Siamese model ---\n",
    "# Extract individual components for each fighter\n",
    "p1_referee = feature_df['referee'].values.astype(int)[:, np.newaxis]\n",
    "p1_stance = feature_df['p1_stance'].values.astype(int)[:, np.newaxis]\n",
    "p1_numeric_data = feature_df[p1_numeric].values\n",
    "\n",
    "p2_referee = feature_df['referee'].values.astype(int)[:, np.newaxis]\n",
    "p2_stance = feature_df['p2_stance'].values.astype(int)[:, np.newaxis]\n",
    "p2_numeric_data = feature_df[p2_numeric].values\n",
    "\n",
    "# Target variable\n",
    "if 'winner' in feature_df.columns:\n",
    "    y_data = feature_df['winner'].values\n",
    "else:\n",
    "    raise ValueError(\"Winner column not found in dataset\")\n",
    "\n",
    "# ============= MODEL DEFINITION =============\n",
    "\n",
    "# Get dimensions for model inputs\n",
    "num_referees = int(feature_df['referee'].max()) + 1\n",
    "num_stances = int(max(feature_df['p1_stance'].max(), feature_df['p2_stance'].max())) + 1\n",
    "num_numeric = len(numeric_feats)\n",
    "\n",
    "\n",
    "class SqueezeLayer(tf.keras.layers.Layer):\n",
    "    def __init__(self, axis, **kwargs):\n",
    "        super(SqueezeLayer, self).__init__(**kwargs)\n",
    "        self.axis = axis\n",
    "    \n",
    "    def call(self, inputs):\n",
    "        return tf.squeeze(inputs, axis=self.axis)\n",
    "\n",
    "\n",
    "def create_fighter_encoder():\n",
    "    input_referee = Input(shape=(1,), name='referee')\n",
    "    input_stance = Input(shape=(1,), name='stance')\n",
    "    input_numeric = Input(shape=(num_numeric,), name='numeric')\n",
    "    \n",
    "    # Embedding layers with L2 regularization\n",
    "    emb_referee = Embedding(num_referees, 8, \n",
    "                           name='referee_embedding',\n",
    "                           embeddings_regularizer=l2(0.001))(input_referee)\n",
    "    emb_stance = Embedding(num_stances, 4, \n",
    "                          name='stance_embedding',\n",
    "                          embeddings_regularizer=l2(0.001))(input_stance)\n",
    "    \n",
    "    # Use SqueezeLayer instead of direct tf.squeeze calls\n",
    "    emb_referee = SqueezeLayer(axis=1)(emb_referee)  # Changed this line\n",
    "    emb_stance = SqueezeLayer(axis=1)(emb_stance)    # Changed this line\n",
    "    \n",
    "    # Concatenate all features\n",
    "    concat = Concatenate(axis=-1)([emb_referee, emb_stance, input_numeric])\n",
    "    \n",
    "    # Reshape for LSTM (add time dimension)\n",
    "    x = Lambda(lambda x: tf.expand_dims(x, axis=1))(concat)\n",
    "    \n",
    "    # BiLSTM layers\n",
    "    x = Bidirectional(LSTM(64, return_sequences=True, \n",
    "                          kernel_regularizer=l2(0.001)))(x)\n",
    "    x = LayerNormalization()(x)\n",
    "    x = Dropout(0.4)(x)\n",
    "    \n",
    "    x = Bidirectional(LSTM(32, \n",
    "                          kernel_regularizer=l2(0.001)))(x)\n",
    "    x = LayerNormalization()(x)\n",
    "    x = Dropout(0.4)(x)\n",
    "    \n",
    "    # Final embedding\n",
    "    embedding = Dense(32, activation='relu', kernel_regularizer=l2(0.001))(x)\n",
    "    \n",
    "    # Create model\n",
    "    return Model(inputs=[input_referee, input_stance, input_numeric], outputs=embedding)\n",
    "\n",
    "# Create the shared encoder\n",
    "fighter_encoder = create_fighter_encoder()\n",
    "print(\"Fighter Encoder Summary:\")\n",
    "fighter_encoder.summary()\n",
    "\n",
    "# Apply the same encoder to both fighters\n",
    "p1_inputs = [Input(shape=(1,), name='p1_referee'),\n",
    "             Input(shape=(1,), name='p1_stance'),\n",
    "             Input(shape=(num_numeric,), name='p1_numeric')]\n",
    "\n",
    "p2_inputs = [Input(shape=(1,), name='p2_referee'),\n",
    "             Input(shape=(1,), name='p2_stance'),\n",
    "             Input(shape=(num_numeric,), name='p2_numeric')]\n",
    "\n",
    "p1_embedding = fighter_encoder(p1_inputs)\n",
    "p2_embedding = fighter_encoder(p2_inputs)\n",
    "\n",
    "# Compute feature difference for comparison\n",
    "diff = Lambda(lambda x: x[0] - x[1])([p1_embedding, p2_embedding])\n",
    "\n",
    "# Add comparison layers\n",
    "x = Dense(64, activation='relu', kernel_regularizer=l2(0.001))(diff)\n",
    "x = LayerNormalization()(x)\n",
    "x = Dropout(0.3)(x)\n",
    "x = Dense(32, activation='relu', kernel_regularizer=l2(0.001))(x)\n",
    "x = LayerNormalization()(x)\n",
    "x = Dropout(0.3)(x)\n",
    "\n",
    "# Predict winner\n",
    "output = Dense(1, activation='sigmoid', kernel_regularizer=l2(0.001))(x)\n",
    "\n",
    "# Create final model\n",
    "siamese_model = Model(inputs=p1_inputs + p2_inputs, outputs=output)\n",
    "\n",
    "# Compile model\n",
    "siamese_model.compile(optimizer=tf.keras.optimizers.Adam(learning_rate=3e-4),\n",
    "                     loss='binary_crossentropy',\n",
    "                     metrics=['accuracy',\n",
    "                             tf.keras.metrics.Precision(name='precision'),\n",
    "                             tf.keras.metrics.Recall(name='recall')])\n",
    "\n",
    "print(\"Siamese Model Summary:\")\n",
    "siamese_model.summary()\n",
    "\n",
    "# ============= TRAINING =============\n",
    "\n",
    "# Split data into train/test sets\n",
    "X_train_p1_ref, X_test_p1_ref, X_train_p1_stance, X_test_p1_stance, \\\n",
    "X_train_p1_num, X_test_p1_num, X_train_p2_ref, X_test_p2_ref, \\\n",
    "X_train_p2_stance, X_test_p2_stance, X_train_p2_num, X_test_p2_num, \\\n",
    "y_train, y_test = train_test_split(\n",
    "    p1_referee, p1_stance, p1_numeric_data, \n",
    "    p2_referee, p2_stance, p2_numeric_data,\n",
    "    y_data, test_size=0.2, random_state=42\n",
    ")\n",
    "\n",
    "# Define callbacks\n",
    "early_stop = EarlyStopping(\n",
    "    monitor='val_loss',\n",
    "    patience=10,\n",
    "    min_delta=0.001,\n",
    "    restore_best_weights=True\n",
    ")\n",
    "\n",
    "checkpoint = ModelCheckpoint(\n",
    "    'best_siamese_model.h5',\n",
    "    save_best_only=True,\n",
    "    monitor='val_accuracy',\n",
    "    mode='max'\n",
    ")\n",
    "\n",
    "# Compute class weights if needed\n",
    "class_counts = np.bincount(y_train.astype(int))\n",
    "total = class_counts.sum()\n",
    "class_weights = {i: total/(len(class_counts)*count) for i, count in enumerate(class_counts)}\n",
    "print(\"Class weights:\", class_weights)\n",
    "\n",
    "# Train the model\n",
    "history = siamese_model.fit(\n",
    "    [X_train_p1_ref, X_train_p1_stance, X_train_p1_num, \n",
    "     X_train_p2_ref, X_train_p2_stance, X_train_p2_num],\n",
    "    y_train,\n",
    "    epochs=50,\n",
    "    batch_size=32,\n",
    "    validation_split=0.2,\n",
    "    callbacks=[early_stop, checkpoint],\n",
    "    class_weight=class_weights\n",
    ")\n",
    "\n",
    "# ============= EVALUATION =============\n",
    "\n",
    "# Evaluate on test data\n",
    "test_loss, test_acc, test_prec, test_recall = siamese_model.evaluate(\n",
    "    [X_test_p1_ref, X_test_p1_stance, X_test_p1_num, \n",
    "     X_test_p2_ref, X_test_p2_stance, X_test_p2_num],\n",
    "    y_test,\n",
    "    verbose=1\n",
    ")\n",
    "\n",
    "print(f\"\\nTest Results:\")\n",
    "print(f\"Test accuracy: {test_acc:.4f}\")\n",
    "print(f\"Test precision: {test_prec:.4f}\")\n",
    "print(f\"Test recall: {test_recall:.4f}\")\n",
    "\n",
    "# ============= VISUALIZATION =============\n",
    "\n",
    "# Plot training history\n",
    "plt.figure(figsize=(12, 4))\n",
    "\n",
    "# Accuracy plot\n",
    "plt.subplot(1, 2, 1)\n",
    "plt.plot(history.history['accuracy'])\n",
    "plt.plot(history.history['val_accuracy'])\n",
    "plt.title('Model Accuracy')\n",
    "plt.ylabel('Accuracy')\n",
    "plt.xlabel('Epoch')\n",
    "plt.legend(['Train', 'Validation'], loc='upper left')\n",
    "\n",
    "# Loss plot\n",
    "plt.subplot(1, 2, 2)\n",
    "plt.plot(history.history['loss'])\n",
    "plt.plot(history.history['val_loss'])\n",
    "plt.title('Model Loss')\n",
    "plt.ylabel('Loss')\n",
    "plt.xlabel('Epoch')\n",
    "plt.legend(['Train', 'Validation'], loc='upper left')\n",
    "plt.tight_layout()\n",
    "plt.show()\n",
    "\n"
   ]
  }
 ],
 "metadata": {
  "kernelspec": {
   "display_name": "Python 3",
   "language": "python",
   "name": "python3"
  },
  "language_info": {
   "codemirror_mode": {
    "name": "ipython",
    "version": 3
   },
   "file_extension": ".py",
   "mimetype": "text/x-python",
   "name": "python",
   "nbconvert_exporter": "python",
   "pygments_lexer": "ipython3",
   "version": "3.12.6"
  }
 },
 "nbformat": 4,
 "nbformat_minor": 5
}
